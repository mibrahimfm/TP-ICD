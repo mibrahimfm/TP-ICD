{
 "cells": [
  {
   "cell_type": "markdown",
   "metadata": {},
   "source": [
    "## Classificação - Respondendo a pergunta 3: Uma música ou artista influencia similares a subirem no  top 100?\n",
    "\n",
    "Avaliação utilizando KNN"
   ]
  },
  {
   "cell_type": "code",
   "execution_count": 1,
   "metadata": {},
   "outputs": [],
   "source": [
    "import numpy as np\n",
    "import matplotlib.pyplot as plt\n",
    "import pandas as pd\n",
    "from sklearn.metrics import confusion_matrix\n",
    "from sklearn.neighbors import KNeighborsClassifier\n",
    "from sklearn.model_selection import train_test_split, StratifiedKFold\n",
    "from sklearn.metrics import accuracy_score, classification_report\n"
   ]
  },
  {
   "cell_type": "code",
   "execution_count": 2,
   "metadata": {},
   "outputs": [],
   "source": [
    "df_with_one_hot = pd.read_csv('../dataset/songs_one_hot_encoding.csv',\n",
    "                 encoding='iso-8859-1', na_values='unknown')"
   ]
  },
  {
   "cell_type": "code",
   "execution_count": 34,
   "metadata": {
    "scrolled": false
   },
   "outputs": [],
   "source": [
    "#define X e Y de treino e teste\n",
    "\n",
    "train, test = train_test_split(df_with_one_hot, test_size=0.40)\n",
    "\n",
    "X_train = train[['pop', 'dance pop', 'pop rap',\n",
    "       'rap', 'post-teen pop', 'hip hop', 'r&b', 'contemporary country',\n",
    "       'southern hip hop', 'country', 'country road', 'urban contemporary',\n",
    "       'hip pop', 'trap music', 'tempo', 'speechiness', 'acousticness',\n",
    "       'time_signature', 'danceability','loudness',\n",
    "       'valence', 'mode']]\n",
    "X_test = test[['pop', 'dance pop', 'pop rap',\n",
    "       'rap', 'post-teen pop', 'hip hop', 'r&b', 'contemporary country',\n",
    "       'southern hip hop', 'country', 'country road', 'urban contemporary',\n",
    "       'hip pop', 'trap music', 'tempo', 'speechiness', 'acousticness',\n",
    "       'time_signature', 'danceability','loudness',\n",
    "       'valence', 'mode']]\n",
    "\n",
    "Y_train = train[['peak_pos']]\n",
    "Y_test = test[['peak_pos']]"
   ]
  },
  {
   "cell_type": "code",
   "execution_count": 35,
   "metadata": {},
   "outputs": [],
   "source": [
    "X_train = X_train.values\n",
    "X_test = X_test.values\n",
    "Y_train = Y_train.values\n",
    "Y_test = Y_test.values\n",
    "Y_train = Y_train.ravel()\n",
    "Y_test = Y_test.ravel()"
   ]
  },
  {
   "cell_type": "code",
   "execution_count": 36,
   "metadata": {},
   "outputs": [],
   "source": [
    "Y_train = Y_train - 1\n",
    "Y_train = Y_train // 20\n",
    "Y_train = Y_train + 1\n",
    "Y_test = Y_test - 1\n",
    "Y_test = Y_test // 20\n",
    "Y_test = Y_test+ 1"
   ]
  },
  {
   "cell_type": "code",
   "execution_count": 37,
   "metadata": {},
   "outputs": [],
   "source": [
    "skf = StratifiedKFold(n_splits=20, shuffle=True)"
   ]
  },
  {
   "cell_type": "code",
   "execution_count": 38,
   "metadata": {},
   "outputs": [
    {
     "name": "stdout",
     "output_type": "stream",
     "text": [
      "Fold-1, melhor n = 9, acc = 0.3051643192488263\n",
      "Fold-2, melhor n = 5, acc = 0.2863849765258216\n",
      "Fold-3, melhor n = 2, acc = 0.3004694835680751\n",
      "Fold-4, melhor n = 7, acc = 0.3004694835680751\n",
      "Fold-5, melhor n = 9, acc = 0.24528301886792453\n",
      "Fold-6, melhor n = 10, acc = 0.2890995260663507\n",
      "Fold-7, melhor n = 9, acc = 0.3\n",
      "Fold-8, melhor n = 6, acc = 0.2761904761904762\n",
      "Fold-9, melhor n = 6, acc = 0.3\n",
      "Fold-10, melhor n = 8, acc = 0.24285714285714285\n",
      "Fold-11, melhor n = 5, acc = 0.26666666666666666\n",
      "Fold-12, melhor n = 4, acc = 0.2857142857142857\n",
      "Fold-13, melhor n = 3, acc = 0.3238095238095238\n",
      "Fold-14, melhor n = 20, acc = 0.2619047619047619\n",
      "Fold-15, melhor n = 2, acc = 0.33014354066985646\n",
      "Fold-16, melhor n = 3, acc = 0.32057416267942584\n",
      "Fold-17, melhor n = 4, acc = 0.291866028708134\n",
      "Fold-18, melhor n = 3, acc = 0.2980769230769231\n",
      "Fold-19, melhor n = 20, acc = 0.25\n",
      "Fold-20, melhor n = 8, acc = 0.2980769230769231\n"
     ]
    }
   ],
   "source": [
    "fold = 0\n",
    "best = []\n",
    "for training, validation in skf.split(X_train, Y_train):\n",
    "    X_tt = X_train[training]\n",
    "    y_tt = Y_train[training]\n",
    "    X_v = X_train[validation]\n",
    "    y_v = Y_train[validation]\n",
    "    best_iter = (0, 0)\n",
    "    for nn in [2, 3, 4, 5, 6, 7, 8, 9, 10, 20]: # Vamos testar tais valores de n\n",
    "        model = KNeighborsClassifier(n_neighbors=nn)\n",
    "        model.fit(X_tt, y_tt) # treina no conjunto de treino\n",
    "        y_pv = model.predict(X_v) # previsões no conjunto de validação\n",
    "        \n",
    "        # Resultado com melhor acurácia!\n",
    "        accuracy = accuracy_score(y_v, y_pv)\n",
    "        if accuracy > best_iter[0]:\n",
    "            best_iter = (accuracy, nn)\n",
    "    \n",
    "    best.append(best_iter[1])\n",
    "    fold += 1\n",
    "    print('Fold-{}, melhor n = {}, acc = {}'.format(fold, best_iter[1], best_iter[0]))"
   ]
  },
  {
   "cell_type": "code",
   "execution_count": 39,
   "metadata": {},
   "outputs": [
    {
     "name": "stdout",
     "output_type": "stream",
     "text": [
      "              precision    recall  f1-score   support\n",
      "\n",
      "           1       0.32      0.51      0.40       713\n",
      "           2       0.18      0.16      0.17       494\n",
      "           3       0.23      0.20      0.21       538\n",
      "           4       0.21      0.14      0.17       541\n",
      "           5       0.20      0.16      0.18       518\n",
      "\n",
      "    accuracy                           0.25      2804\n",
      "   macro avg       0.23      0.23      0.23      2804\n",
      "weighted avg       0.24      0.25      0.24      2804\n",
      "\n"
     ]
    }
   ],
   "source": [
    "intMedian = int(np.median(best))\n",
    "\n",
    "modelKNN = KNeighborsClassifier(n_neighbors=intMedian)\n",
    "modelKNN.fit(X_train, Y_train)\n",
    "\n",
    "print(classification_report(Y_test, model.predict(X_test)))"
   ]
  },
  {
   "cell_type": "code",
   "execution_count": 40,
   "metadata": {},
   "outputs": [
    {
     "data": {
      "text/plain": [
       "<matplotlib.image.AxesImage at 0x23eda4e46d8>"
      ]
     },
     "execution_count": 40,
     "metadata": {},
     "output_type": "execute_result"
    },
    {
     "data": {
      "image/png": "[encoded data removed]",
      "text/plain": [
       "<Figure size 432x288 with 1 Axes>"
      ]
     },
     "metadata": {
      "needs_background": "light"
     },
     "output_type": "display_data"
    }
   ],
   "source": [
    "values=np.arange(10)+1\n",
    "\n",
    "plt.imshow(confusion_matrix(Y_test, modelKNN.predict(X_test)))\n"
   ]
  }
 ],
 "metadata": {
  "kernelspec": {
   "display_name": "Python 3",
   "language": "python",
   "name": "python3"
  },
  "language_info": {
   "codemirror_mode": {
    "name": "ipython",
    "version": 3
   },
   "file_extension": ".py",
   "mimetype": "text/x-python",
   "name": "python",
   "nbconvert_exporter": "python",
   "pygments_lexer": "ipython3",
   "version": "3.7.3"
  }
 },
 "nbformat": 4,
 "nbformat_minor": 2
}
