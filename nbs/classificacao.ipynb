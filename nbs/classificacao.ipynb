{
 "cells": [
  {
   "cell_type": "markdown",
   "metadata": {},
   "source": [
    "## Classificação - Respondendo a pergunta 3: Uma música ou artista influencia similares a subirem no  top 100?\n",
    "\n",
    "Avaliação utilizando KNN"
   ]
  },
  {
   "cell_type": "code",
   "execution_count": 1,
   "metadata": {},
   "outputs": [],
   "source": [
    "import numpy as np\n",
    "import matplotlib.pyplot as plt\n",
    "import pandas as pd\n",
    "from sklearn.metrics import confusion_matrix\n",
    "from sklearn.neighbors import KNeighborsClassifier\n",
    "from sklearn.model_selection import train_test_split, StratifiedKFold\n",
    "from sklearn.metrics import accuracy_score, classification_report\n"
   ]
  },
  {
   "cell_type": "code",
   "execution_count": 2,
   "metadata": {},
   "outputs": [],
   "source": [
    "df_with_one_hot = pd.read_csv('../dataset/songs_one_hot_encoding.csv',\n",
    "                 encoding='iso-8859-1', na_values='unknown')"
   ]
  },
  {
   "cell_type": "code",
   "execution_count": 3,
   "metadata": {
    "scrolled": false
   },
   "outputs": [],
   "source": [
    "#define X e Y de treino e teste\n",
    "\n",
    "train, test = train_test_split(df_with_one_hot, test_size=0.40)\n",
    "\n",
    "X_train = train[['pop', 'dance pop', 'pop rap',\n",
    "       'rap', 'post-teen pop', 'hip hop', 'r&b', 'contemporary country',\n",
    "       'southern hip hop', 'country', 'country road', 'urban contemporary',\n",
    "       'hip pop', 'trap music', 'weeks', 'rank', 'tempo', 'speechiness', 'acousticness',\n",
    "       'loudness',\n",
    "       'valence', 'mode']]\n",
    "X_test = test[['pop', 'dance pop', 'pop rap',\n",
    "       'rap', 'post-teen pop', 'hip hop', 'r&b', 'contemporary country',\n",
    "       'southern hip hop', 'country', 'country road', 'urban contemporary',\n",
    "       'hip pop', 'trap music', 'weeks', 'rank', 'tempo', 'speechiness', 'acousticness',\n",
    "       'loudness',\n",
    "       'valence', 'mode']]\n",
    "\n",
    "Y_train = train[['peak_pos']]\n",
    "Y_test = test[['peak_pos']]"
   ]
  },
  {
   "cell_type": "code",
   "execution_count": 4,
   "metadata": {},
   "outputs": [],
   "source": [
    "X_train = X_train.values\n",
    "X_test = X_test.values\n",
    "Y_train = Y_train.values\n",
    "Y_test = Y_test.values\n",
    "Y_train = Y_train.ravel()\n",
    "Y_test = Y_test.ravel()"
   ]
  },
  {
   "cell_type": "code",
   "execution_count": 5,
   "metadata": {},
   "outputs": [],
   "source": [
    "#divide em 5 grupos[1[1-20], 2[21-40], 3[41,60], 4[61,80], 5[81,100]]\n",
    "\n",
    "Y_train = Y_train - 1\n",
    "Y_train = Y_train // 20\n",
    "Y_train = Y_train + 1\n",
    "Y_test = Y_test - 1\n",
    "Y_test = Y_test // 20\n",
    "Y_test = Y_test+ 1"
   ]
  },
  {
   "cell_type": "code",
   "execution_count": 6,
   "metadata": {},
   "outputs": [],
   "source": [
    "skf = StratifiedKFold(n_splits=20, shuffle=True)"
   ]
  },
  {
   "cell_type": "code",
   "execution_count": 7,
   "metadata": {},
   "outputs": [
    {
     "name": "stdout",
     "output_type": "stream",
     "text": [
      "Fold-1, melhor n = 20, acc = 0.5821596244131455\n",
      "Fold-2, melhor n = 20, acc = 0.6338028169014085\n",
      "Fold-3, melhor n = 20, acc = 0.5821596244131455\n",
      "Fold-4, melhor n = 20, acc = 0.5849056603773585\n",
      "Fold-5, melhor n = 8, acc = 0.6037735849056604\n",
      "Fold-6, melhor n = 8, acc = 0.6037735849056604\n",
      "Fold-7, melhor n = 20, acc = 0.6161137440758294\n",
      "Fold-8, melhor n = 8, acc = 0.5687203791469194\n",
      "Fold-9, melhor n = 7, acc = 0.5592417061611374\n",
      "Fold-10, melhor n = 20, acc = 0.5761904761904761\n",
      "Fold-11, melhor n = 20, acc = 0.6142857142857143\n",
      "Fold-12, melhor n = 6, acc = 0.5502392344497608\n",
      "Fold-13, melhor n = 5, acc = 0.569377990430622\n",
      "Fold-14, melhor n = 20, acc = 0.5789473684210527\n",
      "Fold-15, melhor n = 3, acc = 0.507177033492823\n",
      "Fold-16, melhor n = 20, acc = 0.5933014354066986\n",
      "Fold-17, melhor n = 20, acc = 0.5933014354066986\n",
      "Fold-18, melhor n = 9, acc = 0.5865384615384616\n",
      "Fold-19, melhor n = 4, acc = 0.5576923076923077\n",
      "Fold-20, melhor n = 20, acc = 0.5625\n"
     ]
    }
   ],
   "source": [
    "fold = 0\n",
    "best = []\n",
    "for training, validation in skf.split(X_train, Y_train):\n",
    "    X_tt = X_train[training]\n",
    "    y_tt = Y_train[training]\n",
    "    X_v = X_train[validation]\n",
    "    y_v = Y_train[validation]\n",
    "    best_iter = (0, 0)\n",
    "    for nn in [2, 3, 4, 5, 6, 7, 8, 9, 10, 20]: # Vamos testar tais valores de n\n",
    "        model = KNeighborsClassifier(n_neighbors=nn)\n",
    "        model.fit(X_tt, y_tt) # treina no conjunto de treino\n",
    "        y_pv = model.predict(X_v) # previsões no conjunto de validação\n",
    "        \n",
    "        # Resultado com melhor acurácia!\n",
    "        accuracy = accuracy_score(y_v, y_pv)\n",
    "        if accuracy > best_iter[0]:\n",
    "            best_iter = (accuracy, nn)\n",
    "    \n",
    "    best.append(best_iter[1])\n",
    "    fold += 1\n",
    "    print('Fold-{}, melhor n = {}, acc = {}'.format(fold, best_iter[1], best_iter[0]))"
   ]
  },
  {
   "cell_type": "code",
   "execution_count": 8,
   "metadata": {},
   "outputs": [
    {
     "name": "stdout",
     "output_type": "stream",
     "text": [
      "              precision    recall  f1-score   support\n",
      "\n",
      "           1       0.76      0.74      0.75       681\n",
      "           2       0.39      0.40      0.39       482\n",
      "           3       0.49      0.42      0.45       558\n",
      "           4       0.52      0.47      0.50       524\n",
      "           5       0.69      0.85      0.76       559\n",
      "\n",
      "    accuracy                           0.59      2804\n",
      "   macro avg       0.57      0.58      0.57      2804\n",
      "weighted avg       0.58      0.59      0.58      2804\n",
      "\n"
     ]
    }
   ],
   "source": [
    "intMedian = int(np.median(best))\n",
    "\n",
    "modelKNN = KNeighborsClassifier(n_neighbors=intMedian)\n",
    "modelKNN.fit(X_train, Y_train)\n",
    "\n",
    "print(classification_report(Y_test, model.predict(X_test)))"
   ]
  },
  {
   "cell_type": "code",
   "execution_count": 9,
   "metadata": {},
   "outputs": [
    {
     "data": {
      "text/plain": [
       "<matplotlib.image.AxesImage at 0x1c00bb54160>"
      ]
     },
     "execution_count": 9,
     "metadata": {},
     "output_type": "execute_result"
    },
    {
     "data": {
      "image/png": "[encoded data removed]",
      "text/plain": [
       "<Figure size 432x288 with 1 Axes>"
      ]
     },
     "metadata": {
      "needs_background": "light"
     },
     "output_type": "display_data"
    }
   ],
   "source": [
    "values=np.arange(10)+1\n",
    "\n",
    "plt.imshow(confusion_matrix(Y_test, modelKNN.predict(X_test)))\n"
   ]
  }
 ],
 "metadata": {
  "kernelspec": {
   "display_name": "Python 3",
   "language": "python",
   "name": "python3"
  },
  "language_info": {
   "codemirror_mode": {
    "name": "ipython",
    "version": 3
   },
   "file_extension": ".py",
   "mimetype": "text/x-python",
   "name": "python",
   "nbconvert_exporter": "python",
   "pygments_lexer": "ipython3",
   "version": "3.7.3"
  }
 },
 "nbformat": 4,
 "nbformat_minor": 2
}
