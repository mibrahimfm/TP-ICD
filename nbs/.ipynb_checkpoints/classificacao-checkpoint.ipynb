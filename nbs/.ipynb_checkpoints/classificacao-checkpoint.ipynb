{
 "cells": [
  {
   "cell_type": "markdown",
   "metadata": {},
   "source": [
    "## Classificação - Respondendo a pergunta 3: Uma música ou artista influencia similares a subirem no  top 100?\n",
    "\n",
    "Avaliação utilizando KNN"
   ]
  },
  {
   "cell_type": "code",
   "execution_count": 1,
   "metadata": {},
   "outputs": [],
   "source": [
    "import numpy as np\n",
    "import matplotlib.pyplot as plt\n",
    "import pandas as pd\n",
    "from sklearn.metrics import confusion_matrix\n",
    "from sklearn.neighbors import KNeighborsClassifier\n",
    "from sklearn.model_selection import train_test_split, StratifiedKFold\n",
    "from sklearn.metrics import accuracy_score, classification_report\n"
   ]
  },
  {
   "cell_type": "code",
   "execution_count": 2,
   "metadata": {},
   "outputs": [],
   "source": [
    "df_with_one_hot = pd.read_csv('../dataset/songs_one_hot_encoding.csv',\n",
    "                 encoding='iso-8859-1', na_values='unknown')"
   ]
  },
  {
   "cell_type": "code",
   "execution_count": 3,
   "metadata": {
    "scrolled": false
   },
   "outputs": [],
   "source": [
    "#define X e Y de treino e teste\n",
    "\n",
    "train, test = train_test_split(df_with_one_hot, test_size=0.50)\n",
    "\n",
    "X_train = train[['pop', 'dance pop', 'pop rap',\n",
    "       'rap', 'post-teen pop', 'hip hop', 'r&b', 'contemporary country',\n",
    "       'southern hip hop', 'country', 'country road', 'urban contemporary',\n",
    "       'hip pop', 'trap music', 'weeks', 'rank', 'tempo', 'speechiness', 'acousticness',\n",
    "       'loudness',\n",
    "       'valence', 'mode']]\n",
    "X_test = test[['pop', 'dance pop', 'pop rap',\n",
    "       'rap', 'post-teen pop', 'hip hop', 'r&b', 'contemporary country',\n",
    "       'southern hip hop', 'country', 'country road', 'urban contemporary',\n",
    "       'hip pop', 'trap music', 'weeks', 'rank', 'tempo', 'speechiness', 'acousticness',\n",
    "       'loudness',\n",
    "       'valence', 'mode']]\n",
    "\n",
    "Y_train = train[['peak_pos']]\n",
    "Y_test = test[['peak_pos']]"
   ]
  },
  {
   "cell_type": "code",
   "execution_count": 4,
   "metadata": {},
   "outputs": [],
   "source": [
    "X_train = X_train.values\n",
    "X_test = X_test.values\n",
    "Y_train = Y_train.values\n",
    "Y_test = Y_test.values\n",
    "Y_train = Y_train.ravel()\n",
    "Y_test = Y_test.ravel()"
   ]
  },
  {
   "cell_type": "code",
   "execution_count": 5,
   "metadata": {},
   "outputs": [],
   "source": [
    "#divide em 5 grupos[1[1-20], 2[21-40], 3[41,60], 4[61,80], 5[81,100]]\n",
    "\n",
    "Y_train = Y_train - 1\n",
    "Y_train = Y_train // 20\n",
    "Y_train = Y_train + 1\n",
    "Y_test = Y_test - 1\n",
    "Y_test = Y_test // 20\n",
    "Y_test = Y_test+ 1"
   ]
  },
  {
   "cell_type": "code",
   "execution_count": 6,
   "metadata": {},
   "outputs": [],
   "source": [
    "skf = StratifiedKFold(n_splits=20, shuffle=True)"
   ]
  },
  {
   "cell_type": "code",
   "execution_count": 7,
   "metadata": {},
   "outputs": [],
   "source": [
    "fold = 0\n",
    "best = []\n",
    "for training, validation in skf.split(X_train, Y_train):\n",
    "    X_tt = X_train[training]\n",
    "    y_tt = Y_train[training]\n",
    "    X_v = X_train[validation]\n",
    "    y_v = Y_train[validation]\n",
    "    best_iter = (0, 0)\n",
    "    for nn in [2, 3, 4, 5, 6, 7, 8, 9, 10, 20]: # Vamos testar tais valores de n\n",
    "        model = KNeighborsClassifier(n_neighbors=nn)\n",
    "        model.fit(X_tt, y_tt) # treina no conjunto de treino\n",
    "        y_pv = model.predict(X_v) # previsões no conjunto de validação\n",
    "        \n",
    "        # Resultado com melhor acurácia!\n",
    "        accuracy = accuracy_score(y_v, y_pv)\n",
    "        if accuracy > best_iter[0]:\n",
    "            best_iter = (accuracy, nn)\n",
    "    \n",
    "    best.append(best_iter[1])\n",
    "    fold += 1"
   ]
  },
  {
   "cell_type": "code",
   "execution_count": 8,
   "metadata": {},
   "outputs": [
    {
     "name": "stdout",
     "output_type": "stream",
     "text": [
      "              precision    recall  f1-score   support\n",
      "\n",
      "           1       0.77      0.71      0.74       856\n",
      "           2       0.43      0.39      0.41       633\n",
      "           3       0.42      0.43      0.43       653\n",
      "           4       0.52      0.49      0.51       667\n",
      "           5       0.69      0.82      0.75       696\n",
      "\n",
      "    accuracy                           0.58      3505\n",
      "   macro avg       0.56      0.57      0.57      3505\n",
      "weighted avg       0.58      0.58      0.58      3505\n",
      "\n"
     ]
    }
   ],
   "source": [
    "intMedian = int(np.median(best))\n",
    "\n",
    "modelKNN = KNeighborsClassifier(n_neighbors=intMedian)\n",
    "modelKNN.fit(X_train, Y_train)\n",
    "\n",
    "print(classification_report(Y_test, model.predict(X_test)))"
   ]
  },
  {
   "cell_type": "code",
   "execution_count": 9,
   "metadata": {
    "scrolled": true
   },
   "outputs": [
    {
     "data": {
      "text/plain": [
       "([<matplotlib.axis.YTick at 0x25cb1f2c668>,\n",
       "  <matplotlib.axis.YTick at 0x25cb1f25f60>,\n",
       "  <matplotlib.axis.YTick at 0x25cb1f11f28>,\n",
       "  <matplotlib.axis.YTick at 0x25cb21d4860>,\n",
       "  <matplotlib.axis.YTick at 0x25cb21d4d30>],\n",
       " <a list of 5 Text yticklabel objects>)"
      ]
     },
     "execution_count": 9,
     "metadata": {},
     "output_type": "execute_result"
    },
    {
     "data": {
      "image/png": "[encoded data removed]",
      "text/plain": [
       "<Figure size 432x288 with 1 Axes>"
      ]
     },
     "metadata": {
      "needs_background": "light"
     },
     "output_type": "display_data"
    }
   ],
   "source": [
    "values=np.arange(5)\n",
    "\n",
    "plt.imshow(confusion_matrix(Y_test, modelKNN.predict(X_test)))\n",
    "plt.xticks(values)\n",
    "plt.yticks(values)"
   ]
  },
  {
   "cell_type": "markdown",
   "metadata": {},
   "source": [
    "Por esse primeiro modelo, percebemos que os resultados para músicas nos grupos 1(top 20) e 5 (bottom 20) são satisfatórios, mas as músicas nos grupos do meio mostram maior confusão pelo algoritmo<br><br>\n",
    "\n",
    "A seguir, vamos dividir em três grupos(top 20, 21-80, bottom 20) para tentar reduzir esse erro unificando o conjunto com maior confusão."
   ]
  },
  {
   "cell_type": "code",
   "execution_count": 10,
   "metadata": {},
   "outputs": [
    {
     "data": {
      "text/html": [
       "<div>\n",
       "<style scoped>\n",
       "    .dataframe tbody tr th:only-of-type {\n",
       "        vertical-align: middle;\n",
       "    }\n",
       "\n",
       "    .dataframe tbody tr th {\n",
       "        vertical-align: top;\n",
       "    }\n",
       "\n",
       "    .dataframe thead th {\n",
       "        text-align: right;\n",
       "    }\n",
       "</style>\n",
       "<table border=\"1\" class=\"dataframe\">\n",
       "  <thead>\n",
       "    <tr style=\"text-align: right;\">\n",
       "      <th></th>\n",
       "      <th>date</th>\n",
       "      <th>title</th>\n",
       "      <th>artist</th>\n",
       "      <th>peak_pos</th>\n",
       "      <th>pop</th>\n",
       "      <th>dance pop</th>\n",
       "      <th>pop rap</th>\n",
       "      <th>rap</th>\n",
       "      <th>post-teen pop</th>\n",
       "      <th>hip hop</th>\n",
       "      <th>...</th>\n",
       "      <th>speechiness</th>\n",
       "      <th>acousticness</th>\n",
       "      <th>instrumentalness</th>\n",
       "      <th>time_signature</th>\n",
       "      <th>danceability</th>\n",
       "      <th>key</th>\n",
       "      <th>duration_ms</th>\n",
       "      <th>loudness</th>\n",
       "      <th>valence</th>\n",
       "      <th>mode</th>\n",
       "    </tr>\n",
       "  </thead>\n",
       "  <tbody>\n",
       "    <tr>\n",
       "      <th>0</th>\n",
       "      <td>6/21/18</td>\n",
       "      <td>all girls are the same</td>\n",
       "      <td>juice wrld</td>\n",
       "      <td>1</td>\n",
       "      <td>0</td>\n",
       "      <td>0</td>\n",
       "      <td>0</td>\n",
       "      <td>1</td>\n",
       "      <td>0</td>\n",
       "      <td>0</td>\n",
       "      <td>...</td>\n",
       "      <td>0.3070</td>\n",
       "      <td>0.0769</td>\n",
       "      <td>0.000335</td>\n",
       "      <td>4.0</td>\n",
       "      <td>0.671</td>\n",
       "      <td>0.0</td>\n",
       "      <td>165820.0</td>\n",
       "      <td>-7.226</td>\n",
       "      <td>0.203</td>\n",
       "      <td>1.0</td>\n",
       "    </tr>\n",
       "    <tr>\n",
       "      <th>1</th>\n",
       "      <td>6/21/18</td>\n",
       "      <td>all mine</td>\n",
       "      <td>kanye west</td>\n",
       "      <td>0</td>\n",
       "      <td>0</td>\n",
       "      <td>0</td>\n",
       "      <td>1</td>\n",
       "      <td>1</td>\n",
       "      <td>0</td>\n",
       "      <td>0</td>\n",
       "      <td>...</td>\n",
       "      <td>0.3380</td>\n",
       "      <td>0.1250</td>\n",
       "      <td>0.000000</td>\n",
       "      <td>4.0</td>\n",
       "      <td>0.925</td>\n",
       "      <td>11.0</td>\n",
       "      <td>145507.0</td>\n",
       "      <td>-6.562</td>\n",
       "      <td>0.265</td>\n",
       "      <td>0.0</td>\n",
       "    </tr>\n",
       "    <tr>\n",
       "      <th>2</th>\n",
       "      <td>6/21/18</td>\n",
       "      <td>back to you</td>\n",
       "      <td>selena gomez</td>\n",
       "      <td>1</td>\n",
       "      <td>1</td>\n",
       "      <td>1</td>\n",
       "      <td>0</td>\n",
       "      <td>0</td>\n",
       "      <td>1</td>\n",
       "      <td>0</td>\n",
       "      <td>...</td>\n",
       "      <td>0.0486</td>\n",
       "      <td>0.0945</td>\n",
       "      <td>0.000002</td>\n",
       "      <td>4.0</td>\n",
       "      <td>0.601</td>\n",
       "      <td>6.0</td>\n",
       "      <td>207905.0</td>\n",
       "      <td>-4.856</td>\n",
       "      <td>0.508</td>\n",
       "      <td>1.0</td>\n",
       "    </tr>\n",
       "    <tr>\n",
       "      <th>3</th>\n",
       "      <td>6/21/18</td>\n",
       "      <td>be careful</td>\n",
       "      <td>cardi b</td>\n",
       "      <td>0</td>\n",
       "      <td>1</td>\n",
       "      <td>0</td>\n",
       "      <td>0</td>\n",
       "      <td>1</td>\n",
       "      <td>0</td>\n",
       "      <td>0</td>\n",
       "      <td>...</td>\n",
       "      <td>0.4110</td>\n",
       "      <td>0.0256</td>\n",
       "      <td>0.000000</td>\n",
       "      <td>4.0</td>\n",
       "      <td>0.820</td>\n",
       "      <td>6.0</td>\n",
       "      <td>210787.0</td>\n",
       "      <td>-8.230</td>\n",
       "      <td>0.535</td>\n",
       "      <td>0.0</td>\n",
       "    </tr>\n",
       "    <tr>\n",
       "      <th>4</th>\n",
       "      <td>6/21/18</td>\n",
       "      <td>beautiful crazy</td>\n",
       "      <td>luke combs</td>\n",
       "      <td>1</td>\n",
       "      <td>0</td>\n",
       "      <td>0</td>\n",
       "      <td>0</td>\n",
       "      <td>0</td>\n",
       "      <td>0</td>\n",
       "      <td>0</td>\n",
       "      <td>...</td>\n",
       "      <td>0.0262</td>\n",
       "      <td>0.6760</td>\n",
       "      <td>0.000000</td>\n",
       "      <td>4.0</td>\n",
       "      <td>0.552</td>\n",
       "      <td>11.0</td>\n",
       "      <td>193200.0</td>\n",
       "      <td>-7.431</td>\n",
       "      <td>0.382</td>\n",
       "      <td>1.0</td>\n",
       "    </tr>\n",
       "  </tbody>\n",
       "</table>\n",
       "<p>5 rows × 35 columns</p>\n",
       "</div>"
      ],
      "text/plain": [
       "      date                   title        artist  peak_pos  pop  dance pop  \\\n",
       "0  6/21/18  all girls are the same    juice wrld         1    0          0   \n",
       "1  6/21/18                all mine    kanye west         0    0          0   \n",
       "2  6/21/18             back to you  selena gomez         1    1          1   \n",
       "3  6/21/18              be careful       cardi b         0    1          0   \n",
       "4  6/21/18         beautiful crazy    luke combs         1    0          0   \n",
       "\n",
       "   pop rap  rap  post-teen pop  hip hop  ...  speechiness  acousticness  \\\n",
       "0        0    1              0        0  ...       0.3070        0.0769   \n",
       "1        1    1              0        0  ...       0.3380        0.1250   \n",
       "2        0    0              1        0  ...       0.0486        0.0945   \n",
       "3        0    1              0        0  ...       0.4110        0.0256   \n",
       "4        0    0              0        0  ...       0.0262        0.6760   \n",
       "\n",
       "   instrumentalness  time_signature  danceability   key  duration_ms  \\\n",
       "0          0.000335             4.0         0.671   0.0     165820.0   \n",
       "1          0.000000             4.0         0.925  11.0     145507.0   \n",
       "2          0.000002             4.0         0.601   6.0     207905.0   \n",
       "3          0.000000             4.0         0.820   6.0     210787.0   \n",
       "4          0.000000             4.0         0.552  11.0     193200.0   \n",
       "\n",
       "   loudness  valence  mode  \n",
       "0    -7.226    0.203   1.0  \n",
       "1    -6.562    0.265   0.0  \n",
       "2    -4.856    0.508   1.0  \n",
       "3    -8.230    0.535   0.0  \n",
       "4    -7.431    0.382   1.0  \n",
       "\n",
       "[5 rows x 35 columns]"
      ]
     },
     "execution_count": 10,
     "metadata": {},
     "output_type": "execute_result"
    }
   ],
   "source": [
    "def classifier(pos):\n",
    "    if (pos < 21):\n",
    "        return 0\n",
    "    if (pos < 81):\n",
    "        return 1\n",
    "    return 2\n",
    "\n",
    "df_with_one_hot['peak_pos'] = list(map(classifier, df_with_one_hot['peak_pos']))\n",
    "df_with_one_hot.head()"
   ]
  },
  {
   "cell_type": "code",
   "execution_count": 11,
   "metadata": {
    "scrolled": false
   },
   "outputs": [],
   "source": [
    "#define X e Y de treino e teste\n",
    "\n",
    "train, test = train_test_split(df_with_one_hot, test_size=0.50)\n",
    "\n",
    "X_train = train[['pop', 'dance pop', 'pop rap',\n",
    "       'rap', 'post-teen pop', 'hip hop', 'r&b', 'contemporary country',\n",
    "       'southern hip hop', 'country', 'country road', 'urban contemporary',\n",
    "       'hip pop', 'trap music', 'weeks', 'rank', 'tempo', 'speechiness', 'acousticness',\n",
    "       'loudness',\n",
    "       'valence', 'mode']]\n",
    "X_test = test[['pop', 'dance pop', 'pop rap',\n",
    "       'rap', 'post-teen pop', 'hip hop', 'r&b', 'contemporary country',\n",
    "       'southern hip hop', 'country', 'country road', 'urban contemporary',\n",
    "       'hip pop', 'trap music', 'weeks', 'rank', 'tempo', 'speechiness', 'acousticness',\n",
    "       'loudness',\n",
    "       'valence', 'mode']]\n",
    "\n",
    "Y_train = train[['peak_pos']]\n",
    "Y_test = test[['peak_pos']]"
   ]
  },
  {
   "cell_type": "code",
   "execution_count": 12,
   "metadata": {},
   "outputs": [],
   "source": [
    "X_train = X_train.values\n",
    "X_test = X_test.values\n",
    "Y_train = Y_train.values\n",
    "Y_test = Y_test.values\n",
    "Y_train = Y_train.ravel()\n",
    "Y_test = Y_test.ravel()"
   ]
  },
  {
   "cell_type": "code",
   "execution_count": 13,
   "metadata": {},
   "outputs": [],
   "source": [
    "skf = StratifiedKFold(n_splits=20, shuffle=True)"
   ]
  },
  {
   "cell_type": "code",
   "execution_count": 14,
   "metadata": {},
   "outputs": [],
   "source": [
    "fold = 0\n",
    "best = []\n",
    "for training, validation in skf.split(X_train, Y_train):\n",
    "    X_tt = X_train[training]\n",
    "    y_tt = Y_train[training]\n",
    "    X_v = X_train[validation]\n",
    "    y_v = Y_train[validation]\n",
    "    best_iter = (0, 0)\n",
    "    for nn in [2, 3, 4, 5, 6, 7, 8, 9, 10, 20]: # Vamos testar tais valores de n\n",
    "        model = KNeighborsClassifier(n_neighbors=nn)\n",
    "        model.fit(X_tt, y_tt) # treina no conjunto de treino\n",
    "        y_pv = model.predict(X_v) # previsões no conjunto de validação\n",
    "        \n",
    "        # Resultado com melhor acurácia!\n",
    "        accuracy = accuracy_score(y_v, y_pv)\n",
    "        if accuracy > best_iter[0]:\n",
    "            best_iter = (accuracy, nn)\n",
    "    \n",
    "    best.append(best_iter[1])\n",
    "    fold += 1"
   ]
  },
  {
   "cell_type": "code",
   "execution_count": 15,
   "metadata": {},
   "outputs": [
    {
     "name": "stdout",
     "output_type": "stream",
     "text": [
      "              precision    recall  f1-score   support\n",
      "\n",
      "           0       0.80      0.71      0.75       856\n",
      "           1       0.81      0.82      0.82      1993\n",
      "           2       0.70      0.76      0.73       656\n",
      "\n",
      "    accuracy                           0.78      3505\n",
      "   macro avg       0.77      0.76      0.77      3505\n",
      "weighted avg       0.79      0.78      0.78      3505\n",
      "\n"
     ]
    }
   ],
   "source": [
    "intMedian = int(np.median(best))\n",
    "\n",
    "modelKNN = KNeighborsClassifier(n_neighbors=intMedian)\n",
    "modelKNN.fit(X_train, Y_train)\n",
    "\n",
    "print(classification_report(Y_test, model.predict(X_test)))"
   ]
  },
  {
   "cell_type": "code",
   "execution_count": 16,
   "metadata": {},
   "outputs": [
    {
     "data": {
      "text/plain": [
       "([<matplotlib.axis.YTick at 0x25cb226f2e8>,\n",
       "  <matplotlib.axis.YTick at 0x25cb2260c18>,\n",
       "  <matplotlib.axis.YTick at 0x25cb224c6a0>],\n",
       " <a list of 3 Text yticklabel objects>)"
      ]
     },
     "execution_count": 16,
     "metadata": {},
     "output_type": "execute_result"
    },
    {
     "data": {
      "image/png": "[encoded data removed]",
      "text/plain": [
       "<Figure size 432x288 with 1 Axes>"
      ]
     },
     "metadata": {
      "needs_background": "light"
     },
     "output_type": "display_data"
    }
   ],
   "source": [
    "values=np.arange(3)\n",
    "\n",
    "plt.imshow(confusion_matrix(Y_test, modelKNN.predict(X_test)))\n",
    "plt.xticks(values)\n",
    "plt.yticks(values)"
   ]
  },
  {
   "cell_type": "markdown",
   "metadata": {},
   "source": [
    "Pela matriz de confusão é possível pensar que o primeiro e último grupo aparentaram uma piora na predição, mas o relatório mostra que isso não é verdade, e ambos aparentaram resultado similar, enquanto o grupo do meio demonstrou uma melhora muito grande, o que levou a uma alta na porcentagem de acerto na predição."
   ]
  }
 ],
 "metadata": {
  "kernelspec": {
   "display_name": "Python 3",
   "language": "python",
   "name": "python3"
  },
  "language_info": {
   "codemirror_mode": {
    "name": "ipython",
    "version": 3
   },
   "file_extension": ".py",
   "mimetype": "text/x-python",
   "name": "python",
   "nbconvert_exporter": "python",
   "pygments_lexer": "ipython3",
   "version": "3.7.3"
  }
 },
 "nbformat": 4,
 "nbformat_minor": 2
}
