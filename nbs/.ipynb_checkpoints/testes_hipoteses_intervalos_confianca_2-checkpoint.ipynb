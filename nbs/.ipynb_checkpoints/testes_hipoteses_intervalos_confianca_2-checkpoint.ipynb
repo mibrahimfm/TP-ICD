{
 "cells": [
  {
   "cell_type": "code",
   "execution_count": 1,
   "metadata": {},
   "outputs": [],
   "source": [
    "import pandas as pd\n",
    "from matplotlib import pyplot as plt\n",
    "from matplotlib.pyplot import figure\n",
    "import seaborn as sns\n",
    "import numpy as np\n",
    "from statsmodels.distributions.empirical_distribution import ECDF"
   ]
  },
  {
   "cell_type": "code",
   "execution_count": 2,
   "metadata": {},
   "outputs": [],
   "source": [
    "df = pd.read_csv('../dataset/songs_one_hot_encoding.csv',\n",
    "                 encoding='iso-8859-1', na_values='unknown')"
   ]
  },
  {
   "cell_type": "code",
   "execution_count": 3,
   "metadata": {},
   "outputs": [
    {
     "data": {
      "text/html": [
       "<div>\n",
       "<style scoped>\n",
       "    .dataframe tbody tr th:only-of-type {\n",
       "        vertical-align: middle;\n",
       "    }\n",
       "\n",
       "    .dataframe tbody tr th {\n",
       "        vertical-align: top;\n",
       "    }\n",
       "\n",
       "    .dataframe thead th {\n",
       "        text-align: right;\n",
       "    }\n",
       "</style>\n",
       "<table border=\"1\" class=\"dataframe\">\n",
       "  <thead>\n",
       "    <tr style=\"text-align: right;\">\n",
       "      <th></th>\n",
       "      <th>peak_pos</th>\n",
       "      <th>pop</th>\n",
       "      <th>dance pop</th>\n",
       "      <th>pop rap</th>\n",
       "      <th>rap</th>\n",
       "      <th>post-teen pop</th>\n",
       "      <th>hip hop</th>\n",
       "      <th>r&amp;b</th>\n",
       "      <th>contemporary country</th>\n",
       "      <th>southern hip hop</th>\n",
       "      <th>...</th>\n",
       "      <th>speechiness</th>\n",
       "      <th>acousticness</th>\n",
       "      <th>instrumentalness</th>\n",
       "      <th>time_signature</th>\n",
       "      <th>danceability</th>\n",
       "      <th>key</th>\n",
       "      <th>duration_ms</th>\n",
       "      <th>loudness</th>\n",
       "      <th>valence</th>\n",
       "      <th>mode</th>\n",
       "    </tr>\n",
       "  </thead>\n",
       "  <tbody>\n",
       "    <tr>\n",
       "      <th>count</th>\n",
       "      <td>1057.000000</td>\n",
       "      <td>1057.000000</td>\n",
       "      <td>1057.000000</td>\n",
       "      <td>1057.000000</td>\n",
       "      <td>1057.000000</td>\n",
       "      <td>1057.000000</td>\n",
       "      <td>1057.000000</td>\n",
       "      <td>1057.000000</td>\n",
       "      <td>1057.000000</td>\n",
       "      <td>1057.000000</td>\n",
       "      <td>...</td>\n",
       "      <td>1057.000000</td>\n",
       "      <td>1057.000000</td>\n",
       "      <td>1057.000000</td>\n",
       "      <td>1057.000000</td>\n",
       "      <td>1057.000000</td>\n",
       "      <td>1057.000000</td>\n",
       "      <td>1057.000000</td>\n",
       "      <td>1057.000000</td>\n",
       "      <td>1057.000000</td>\n",
       "      <td>1057.000000</td>\n",
       "    </tr>\n",
       "    <tr>\n",
       "      <th>mean</th>\n",
       "      <td>4.689688</td>\n",
       "      <td>0.596026</td>\n",
       "      <td>0.591296</td>\n",
       "      <td>0.402081</td>\n",
       "      <td>0.278146</td>\n",
       "      <td>0.315989</td>\n",
       "      <td>0.218543</td>\n",
       "      <td>0.315043</td>\n",
       "      <td>0.018921</td>\n",
       "      <td>0.175024</td>\n",
       "      <td>...</td>\n",
       "      <td>0.113852</td>\n",
       "      <td>0.137331</td>\n",
       "      <td>0.010689</td>\n",
       "      <td>3.994324</td>\n",
       "      <td>0.668859</td>\n",
       "      <td>5.103122</td>\n",
       "      <td>237962.465468</td>\n",
       "      <td>-5.775912</td>\n",
       "      <td>0.560820</td>\n",
       "      <td>0.603595</td>\n",
       "    </tr>\n",
       "    <tr>\n",
       "      <th>std</th>\n",
       "      <td>2.998771</td>\n",
       "      <td>0.490925</td>\n",
       "      <td>0.491827</td>\n",
       "      <td>0.490550</td>\n",
       "      <td>0.448298</td>\n",
       "      <td>0.465128</td>\n",
       "      <td>0.413453</td>\n",
       "      <td>0.464753</td>\n",
       "      <td>0.136312</td>\n",
       "      <td>0.380167</td>\n",
       "      <td>...</td>\n",
       "      <td>0.107339</td>\n",
       "      <td>0.180935</td>\n",
       "      <td>0.079633</td>\n",
       "      <td>0.226062</td>\n",
       "      <td>0.140930</td>\n",
       "      <td>3.602629</td>\n",
       "      <td>43520.973098</td>\n",
       "      <td>2.135248</td>\n",
       "      <td>0.221864</td>\n",
       "      <td>0.489382</td>\n",
       "    </tr>\n",
       "    <tr>\n",
       "      <th>min</th>\n",
       "      <td>1.000000</td>\n",
       "      <td>0.000000</td>\n",
       "      <td>0.000000</td>\n",
       "      <td>0.000000</td>\n",
       "      <td>0.000000</td>\n",
       "      <td>0.000000</td>\n",
       "      <td>0.000000</td>\n",
       "      <td>0.000000</td>\n",
       "      <td>0.000000</td>\n",
       "      <td>0.000000</td>\n",
       "      <td>...</td>\n",
       "      <td>0.024100</td>\n",
       "      <td>0.000046</td>\n",
       "      <td>0.000000</td>\n",
       "      <td>0.000000</td>\n",
       "      <td>0.160000</td>\n",
       "      <td>0.000000</td>\n",
       "      <td>124056.000000</td>\n",
       "      <td>-18.228000</td>\n",
       "      <td>0.038800</td>\n",
       "      <td>0.000000</td>\n",
       "    </tr>\n",
       "    <tr>\n",
       "      <th>25%</th>\n",
       "      <td>2.000000</td>\n",
       "      <td>0.000000</td>\n",
       "      <td>0.000000</td>\n",
       "      <td>0.000000</td>\n",
       "      <td>0.000000</td>\n",
       "      <td>0.000000</td>\n",
       "      <td>0.000000</td>\n",
       "      <td>0.000000</td>\n",
       "      <td>0.000000</td>\n",
       "      <td>0.000000</td>\n",
       "      <td>...</td>\n",
       "      <td>0.040300</td>\n",
       "      <td>0.015900</td>\n",
       "      <td>0.000000</td>\n",
       "      <td>4.000000</td>\n",
       "      <td>0.583000</td>\n",
       "      <td>1.000000</td>\n",
       "      <td>212107.000000</td>\n",
       "      <td>-6.814000</td>\n",
       "      <td>0.389000</td>\n",
       "      <td>0.000000</td>\n",
       "    </tr>\n",
       "    <tr>\n",
       "      <th>50%</th>\n",
       "      <td>4.000000</td>\n",
       "      <td>1.000000</td>\n",
       "      <td>1.000000</td>\n",
       "      <td>0.000000</td>\n",
       "      <td>0.000000</td>\n",
       "      <td>0.000000</td>\n",
       "      <td>0.000000</td>\n",
       "      <td>0.000000</td>\n",
       "      <td>0.000000</td>\n",
       "      <td>0.000000</td>\n",
       "      <td>...</td>\n",
       "      <td>0.067700</td>\n",
       "      <td>0.058700</td>\n",
       "      <td>0.000000</td>\n",
       "      <td>4.000000</td>\n",
       "      <td>0.680000</td>\n",
       "      <td>5.000000</td>\n",
       "      <td>231653.000000</td>\n",
       "      <td>-5.519000</td>\n",
       "      <td>0.578000</td>\n",
       "      <td>1.000000</td>\n",
       "    </tr>\n",
       "    <tr>\n",
       "      <th>75%</th>\n",
       "      <td>7.000000</td>\n",
       "      <td>1.000000</td>\n",
       "      <td>1.000000</td>\n",
       "      <td>1.000000</td>\n",
       "      <td>1.000000</td>\n",
       "      <td>1.000000</td>\n",
       "      <td>0.000000</td>\n",
       "      <td>1.000000</td>\n",
       "      <td>0.000000</td>\n",
       "      <td>0.000000</td>\n",
       "      <td>...</td>\n",
       "      <td>0.147000</td>\n",
       "      <td>0.197000</td>\n",
       "      <td>0.000019</td>\n",
       "      <td>4.000000</td>\n",
       "      <td>0.763000</td>\n",
       "      <td>8.000000</td>\n",
       "      <td>257133.000000</td>\n",
       "      <td>-4.321000</td>\n",
       "      <td>0.743000</td>\n",
       "      <td>1.000000</td>\n",
       "    </tr>\n",
       "    <tr>\n",
       "      <th>max</th>\n",
       "      <td>10.000000</td>\n",
       "      <td>1.000000</td>\n",
       "      <td>1.000000</td>\n",
       "      <td>1.000000</td>\n",
       "      <td>1.000000</td>\n",
       "      <td>1.000000</td>\n",
       "      <td>1.000000</td>\n",
       "      <td>1.000000</td>\n",
       "      <td>1.000000</td>\n",
       "      <td>1.000000</td>\n",
       "      <td>...</td>\n",
       "      <td>0.681000</td>\n",
       "      <td>0.966000</td>\n",
       "      <td>0.926000</td>\n",
       "      <td>5.000000</td>\n",
       "      <td>0.973000</td>\n",
       "      <td>11.000000</td>\n",
       "      <td>688453.000000</td>\n",
       "      <td>-1.097000</td>\n",
       "      <td>0.975000</td>\n",
       "      <td>1.000000</td>\n",
       "    </tr>\n",
       "  </tbody>\n",
       "</table>\n",
       "<p>8 rows × 31 columns</p>\n",
       "</div>"
      ],
      "text/plain": [
       "          peak_pos          pop    dance pop      pop rap          rap  \\\n",
       "count  1057.000000  1057.000000  1057.000000  1057.000000  1057.000000   \n",
       "mean      4.689688     0.596026     0.591296     0.402081     0.278146   \n",
       "std       2.998771     0.490925     0.491827     0.490550     0.448298   \n",
       "min       1.000000     0.000000     0.000000     0.000000     0.000000   \n",
       "25%       2.000000     0.000000     0.000000     0.000000     0.000000   \n",
       "50%       4.000000     1.000000     1.000000     0.000000     0.000000   \n",
       "75%       7.000000     1.000000     1.000000     1.000000     1.000000   \n",
       "max      10.000000     1.000000     1.000000     1.000000     1.000000   \n",
       "\n",
       "       post-teen pop      hip hop          r&b  contemporary country  \\\n",
       "count    1057.000000  1057.000000  1057.000000           1057.000000   \n",
       "mean        0.315989     0.218543     0.315043              0.018921   \n",
       "std         0.465128     0.413453     0.464753              0.136312   \n",
       "min         0.000000     0.000000     0.000000              0.000000   \n",
       "25%         0.000000     0.000000     0.000000              0.000000   \n",
       "50%         0.000000     0.000000     0.000000              0.000000   \n",
       "75%         1.000000     0.000000     1.000000              0.000000   \n",
       "max         1.000000     1.000000     1.000000              1.000000   \n",
       "\n",
       "       southern hip hop  ...  speechiness  acousticness  instrumentalness  \\\n",
       "count       1057.000000  ...  1057.000000   1057.000000       1057.000000   \n",
       "mean           0.175024  ...     0.113852      0.137331          0.010689   \n",
       "std            0.380167  ...     0.107339      0.180935          0.079633   \n",
       "min            0.000000  ...     0.024100      0.000046          0.000000   \n",
       "25%            0.000000  ...     0.040300      0.015900          0.000000   \n",
       "50%            0.000000  ...     0.067700      0.058700          0.000000   \n",
       "75%            0.000000  ...     0.147000      0.197000          0.000019   \n",
       "max            1.000000  ...     0.681000      0.966000          0.926000   \n",
       "\n",
       "       time_signature  danceability          key    duration_ms     loudness  \\\n",
       "count     1057.000000   1057.000000  1057.000000    1057.000000  1057.000000   \n",
       "mean         3.994324      0.668859     5.103122  237962.465468    -5.775912   \n",
       "std          0.226062      0.140930     3.602629   43520.973098     2.135248   \n",
       "min          0.000000      0.160000     0.000000  124056.000000   -18.228000   \n",
       "25%          4.000000      0.583000     1.000000  212107.000000    -6.814000   \n",
       "50%          4.000000      0.680000     5.000000  231653.000000    -5.519000   \n",
       "75%          4.000000      0.763000     8.000000  257133.000000    -4.321000   \n",
       "max          5.000000      0.973000    11.000000  688453.000000    -1.097000   \n",
       "\n",
       "           valence         mode  \n",
       "count  1057.000000  1057.000000  \n",
       "mean      0.560820     0.603595  \n",
       "std       0.221864     0.489382  \n",
       "min       0.038800     0.000000  \n",
       "25%       0.389000     0.000000  \n",
       "50%       0.578000     1.000000  \n",
       "75%       0.743000     1.000000  \n",
       "max       0.975000     1.000000  \n",
       "\n",
       "[8 rows x 31 columns]"
      ]
     },
     "execution_count": 3,
     "metadata": {},
     "output_type": "execute_result"
    }
   ],
   "source": [
    "top_10_songs = df[df['peak_pos'] <= 10]\n",
    "top_10_songs.describe()"
   ]
  },
  {
   "cell_type": "code",
   "execution_count": 4,
   "metadata": {},
   "outputs": [
    {
     "data": {
      "text/html": [
       "<div>\n",
       "<style scoped>\n",
       "    .dataframe tbody tr th:only-of-type {\n",
       "        vertical-align: middle;\n",
       "    }\n",
       "\n",
       "    .dataframe tbody tr th {\n",
       "        vertical-align: top;\n",
       "    }\n",
       "\n",
       "    .dataframe thead th {\n",
       "        text-align: right;\n",
       "    }\n",
       "</style>\n",
       "<table border=\"1\" class=\"dataframe\">\n",
       "  <thead>\n",
       "    <tr style=\"text-align: right;\">\n",
       "      <th></th>\n",
       "      <th>peak_pos</th>\n",
       "      <th>pop</th>\n",
       "      <th>dance pop</th>\n",
       "      <th>pop rap</th>\n",
       "      <th>rap</th>\n",
       "      <th>post-teen pop</th>\n",
       "      <th>hip hop</th>\n",
       "      <th>r&amp;b</th>\n",
       "      <th>contemporary country</th>\n",
       "      <th>southern hip hop</th>\n",
       "      <th>...</th>\n",
       "      <th>speechiness</th>\n",
       "      <th>acousticness</th>\n",
       "      <th>instrumentalness</th>\n",
       "      <th>time_signature</th>\n",
       "      <th>danceability</th>\n",
       "      <th>key</th>\n",
       "      <th>duration_ms</th>\n",
       "      <th>loudness</th>\n",
       "      <th>valence</th>\n",
       "      <th>mode</th>\n",
       "    </tr>\n",
       "  </thead>\n",
       "  <tbody>\n",
       "    <tr>\n",
       "      <th>count</th>\n",
       "      <td>5953.000000</td>\n",
       "      <td>5953.000000</td>\n",
       "      <td>5953.000000</td>\n",
       "      <td>5953.000000</td>\n",
       "      <td>5953.000000</td>\n",
       "      <td>5953.000000</td>\n",
       "      <td>5953.000000</td>\n",
       "      <td>5953.000000</td>\n",
       "      <td>5953.000000</td>\n",
       "      <td>5953.000000</td>\n",
       "      <td>...</td>\n",
       "      <td>5953.000000</td>\n",
       "      <td>5953.000000</td>\n",
       "      <td>5953.000000</td>\n",
       "      <td>5953.000000</td>\n",
       "      <td>5953.000000</td>\n",
       "      <td>5953.000000</td>\n",
       "      <td>5953.000000</td>\n",
       "      <td>5953.000000</td>\n",
       "      <td>5953.000000</td>\n",
       "      <td>5953.000000</td>\n",
       "    </tr>\n",
       "    <tr>\n",
       "      <th>mean</th>\n",
       "      <td>55.512683</td>\n",
       "      <td>0.388880</td>\n",
       "      <td>0.327398</td>\n",
       "      <td>0.283051</td>\n",
       "      <td>0.240383</td>\n",
       "      <td>0.195196</td>\n",
       "      <td>0.176718</td>\n",
       "      <td>0.158576</td>\n",
       "      <td>0.200235</td>\n",
       "      <td>0.159079</td>\n",
       "      <td>...</td>\n",
       "      <td>0.102201</td>\n",
       "      <td>0.170560</td>\n",
       "      <td>0.013434</td>\n",
       "      <td>3.970771</td>\n",
       "      <td>0.616812</td>\n",
       "      <td>5.277843</td>\n",
       "      <td>230860.169998</td>\n",
       "      <td>-5.950940</td>\n",
       "      <td>0.510824</td>\n",
       "      <td>0.686881</td>\n",
       "    </tr>\n",
       "    <tr>\n",
       "      <th>std</th>\n",
       "      <td>25.969033</td>\n",
       "      <td>0.487537</td>\n",
       "      <td>0.469303</td>\n",
       "      <td>0.450519</td>\n",
       "      <td>0.427352</td>\n",
       "      <td>0.396385</td>\n",
       "      <td>0.381462</td>\n",
       "      <td>0.365310</td>\n",
       "      <td>0.400210</td>\n",
       "      <td>0.365781</td>\n",
       "      <td>...</td>\n",
       "      <td>0.104638</td>\n",
       "      <td>0.215192</td>\n",
       "      <td>0.089911</td>\n",
       "      <td>0.274631</td>\n",
       "      <td>0.147603</td>\n",
       "      <td>3.583313</td>\n",
       "      <td>44699.094237</td>\n",
       "      <td>2.362978</td>\n",
       "      <td>0.223682</td>\n",
       "      <td>0.463801</td>\n",
       "    </tr>\n",
       "    <tr>\n",
       "      <th>min</th>\n",
       "      <td>11.000000</td>\n",
       "      <td>0.000000</td>\n",
       "      <td>0.000000</td>\n",
       "      <td>0.000000</td>\n",
       "      <td>0.000000</td>\n",
       "      <td>0.000000</td>\n",
       "      <td>0.000000</td>\n",
       "      <td>0.000000</td>\n",
       "      <td>0.000000</td>\n",
       "      <td>0.000000</td>\n",
       "      <td>...</td>\n",
       "      <td>0.022500</td>\n",
       "      <td>0.000001</td>\n",
       "      <td>0.000000</td>\n",
       "      <td>1.000000</td>\n",
       "      <td>0.113000</td>\n",
       "      <td>0.000000</td>\n",
       "      <td>37067.000000</td>\n",
       "      <td>-22.015000</td>\n",
       "      <td>0.033200</td>\n",
       "      <td>0.000000</td>\n",
       "    </tr>\n",
       "    <tr>\n",
       "      <th>25%</th>\n",
       "      <td>33.000000</td>\n",
       "      <td>0.000000</td>\n",
       "      <td>0.000000</td>\n",
       "      <td>0.000000</td>\n",
       "      <td>0.000000</td>\n",
       "      <td>0.000000</td>\n",
       "      <td>0.000000</td>\n",
       "      <td>0.000000</td>\n",
       "      <td>0.000000</td>\n",
       "      <td>0.000000</td>\n",
       "      <td>...</td>\n",
       "      <td>0.035200</td>\n",
       "      <td>0.017200</td>\n",
       "      <td>0.000000</td>\n",
       "      <td>4.000000</td>\n",
       "      <td>0.515000</td>\n",
       "      <td>2.000000</td>\n",
       "      <td>203573.000000</td>\n",
       "      <td>-7.080000</td>\n",
       "      <td>0.332000</td>\n",
       "      <td>0.000000</td>\n",
       "    </tr>\n",
       "    <tr>\n",
       "      <th>50%</th>\n",
       "      <td>56.000000</td>\n",
       "      <td>0.000000</td>\n",
       "      <td>0.000000</td>\n",
       "      <td>0.000000</td>\n",
       "      <td>0.000000</td>\n",
       "      <td>0.000000</td>\n",
       "      <td>0.000000</td>\n",
       "      <td>0.000000</td>\n",
       "      <td>0.000000</td>\n",
       "      <td>0.000000</td>\n",
       "      <td>...</td>\n",
       "      <td>0.053100</td>\n",
       "      <td>0.077100</td>\n",
       "      <td>0.000000</td>\n",
       "      <td>4.000000</td>\n",
       "      <td>0.618000</td>\n",
       "      <td>6.000000</td>\n",
       "      <td>226200.000000</td>\n",
       "      <td>-5.571000</td>\n",
       "      <td>0.508000</td>\n",
       "      <td>1.000000</td>\n",
       "    </tr>\n",
       "    <tr>\n",
       "      <th>75%</th>\n",
       "      <td>78.000000</td>\n",
       "      <td>1.000000</td>\n",
       "      <td>1.000000</td>\n",
       "      <td>1.000000</td>\n",
       "      <td>0.000000</td>\n",
       "      <td>0.000000</td>\n",
       "      <td>0.000000</td>\n",
       "      <td>0.000000</td>\n",
       "      <td>0.000000</td>\n",
       "      <td>0.000000</td>\n",
       "      <td>...</td>\n",
       "      <td>0.125000</td>\n",
       "      <td>0.245000</td>\n",
       "      <td>0.000021</td>\n",
       "      <td>4.000000</td>\n",
       "      <td>0.720000</td>\n",
       "      <td>8.000000</td>\n",
       "      <td>252800.000000</td>\n",
       "      <td>-4.333000</td>\n",
       "      <td>0.682000</td>\n",
       "      <td>1.000000</td>\n",
       "    </tr>\n",
       "    <tr>\n",
       "      <th>max</th>\n",
       "      <td>100.000000</td>\n",
       "      <td>1.000000</td>\n",
       "      <td>1.000000</td>\n",
       "      <td>1.000000</td>\n",
       "      <td>1.000000</td>\n",
       "      <td>1.000000</td>\n",
       "      <td>1.000000</td>\n",
       "      <td>1.000000</td>\n",
       "      <td>1.000000</td>\n",
       "      <td>1.000000</td>\n",
       "      <td>...</td>\n",
       "      <td>0.930000</td>\n",
       "      <td>0.995000</td>\n",
       "      <td>0.982000</td>\n",
       "      <td>5.000000</td>\n",
       "      <td>0.986000</td>\n",
       "      <td>11.000000</td>\n",
       "      <td>721580.000000</td>\n",
       "      <td>-0.320000</td>\n",
       "      <td>0.977000</td>\n",
       "      <td>1.000000</td>\n",
       "    </tr>\n",
       "  </tbody>\n",
       "</table>\n",
       "<p>8 rows × 31 columns</p>\n",
       "</div>"
      ],
      "text/plain": [
       "          peak_pos          pop    dance pop      pop rap          rap  \\\n",
       "count  5953.000000  5953.000000  5953.000000  5953.000000  5953.000000   \n",
       "mean     55.512683     0.388880     0.327398     0.283051     0.240383   \n",
       "std      25.969033     0.487537     0.469303     0.450519     0.427352   \n",
       "min      11.000000     0.000000     0.000000     0.000000     0.000000   \n",
       "25%      33.000000     0.000000     0.000000     0.000000     0.000000   \n",
       "50%      56.000000     0.000000     0.000000     0.000000     0.000000   \n",
       "75%      78.000000     1.000000     1.000000     1.000000     0.000000   \n",
       "max     100.000000     1.000000     1.000000     1.000000     1.000000   \n",
       "\n",
       "       post-teen pop      hip hop          r&b  contemporary country  \\\n",
       "count    5953.000000  5953.000000  5953.000000           5953.000000   \n",
       "mean        0.195196     0.176718     0.158576              0.200235   \n",
       "std         0.396385     0.381462     0.365310              0.400210   \n",
       "min         0.000000     0.000000     0.000000              0.000000   \n",
       "25%         0.000000     0.000000     0.000000              0.000000   \n",
       "50%         0.000000     0.000000     0.000000              0.000000   \n",
       "75%         0.000000     0.000000     0.000000              0.000000   \n",
       "max         1.000000     1.000000     1.000000              1.000000   \n",
       "\n",
       "       southern hip hop  ...  speechiness  acousticness  instrumentalness  \\\n",
       "count       5953.000000  ...  5953.000000   5953.000000       5953.000000   \n",
       "mean           0.159079  ...     0.102201      0.170560          0.013434   \n",
       "std            0.365781  ...     0.104638      0.215192          0.089911   \n",
       "min            0.000000  ...     0.022500      0.000001          0.000000   \n",
       "25%            0.000000  ...     0.035200      0.017200          0.000000   \n",
       "50%            0.000000  ...     0.053100      0.077100          0.000000   \n",
       "75%            0.000000  ...     0.125000      0.245000          0.000021   \n",
       "max            1.000000  ...     0.930000      0.995000          0.982000   \n",
       "\n",
       "       time_signature  danceability          key    duration_ms     loudness  \\\n",
       "count     5953.000000   5953.000000  5953.000000    5953.000000  5953.000000   \n",
       "mean         3.970771      0.616812     5.277843  230860.169998    -5.950940   \n",
       "std          0.274631      0.147603     3.583313   44699.094237     2.362978   \n",
       "min          1.000000      0.113000     0.000000   37067.000000   -22.015000   \n",
       "25%          4.000000      0.515000     2.000000  203573.000000    -7.080000   \n",
       "50%          4.000000      0.618000     6.000000  226200.000000    -5.571000   \n",
       "75%          4.000000      0.720000     8.000000  252800.000000    -4.333000   \n",
       "max          5.000000      0.986000    11.000000  721580.000000    -0.320000   \n",
       "\n",
       "           valence         mode  \n",
       "count  5953.000000  5953.000000  \n",
       "mean      0.510824     0.686881  \n",
       "std       0.223682     0.463801  \n",
       "min       0.033200     0.000000  \n",
       "25%       0.332000     0.000000  \n",
       "50%       0.508000     1.000000  \n",
       "75%       0.682000     1.000000  \n",
       "max       0.977000     1.000000  \n",
       "\n",
       "[8 rows x 31 columns]"
      ]
     },
     "execution_count": 4,
     "metadata": {},
     "output_type": "execute_result"
    }
   ],
   "source": [
    "non_top_10_songs = df[df['peak_pos'] > 10]\n",
    "non_top_10_songs.describe()"
   ]
  },
  {
   "cell_type": "markdown",
   "metadata": {},
   "source": [
    "Abaixo, tentaremos achar alguma feature do Spotify que provavelmente é importante para uma música estar no TOP10. Faremos um bootstrap com os dados de todo o dataset, contra a média das músicas do top10."
   ]
  },
  {
   "cell_type": "code",
   "execution_count": 5,
   "metadata": {},
   "outputs": [
    {
     "data": {
      "text/plain": [
       "[]"
      ]
     },
     "execution_count": 5,
     "metadata": {},
     "output_type": "execute_result"
    },
    {
     "data": {
      "image/png": "[encoded data removed]",
      "text/plain": [
       "<Figure size 432x288 with 1 Axes>"
      ]
     },
     "metadata": {
      "needs_background": "light"
     },
     "output_type": "display_data"
    }
   ],
   "source": [
    "feature = 'danceability'\n",
    "df[feature].hist()\n",
    "top_10_songs[feature].hist()\n",
    "plt.plot()"
   ]
  },
  {
   "cell_type": "code",
   "execution_count": 6,
   "metadata": {},
   "outputs": [],
   "source": [
    "def bootstrap_feature(df, feature, n = 10000):\n",
    "    size = len(df)\n",
    "    values = []\n",
    "    \n",
    "    for i in range(n):\n",
    "        sample = df.sample(size, replace=True)\n",
    "        values.append(sample[feature].mean())\n",
    "    return values"
   ]
  },
  {
   "cell_type": "code",
   "execution_count": 7,
   "metadata": {},
   "outputs": [],
   "source": [
    "bootstrap_danceability = bootstrap_feature(non_top_10_songs, 'danceability', 10000)"
   ]
  },
  {
   "cell_type": "code",
   "execution_count": 8,
   "metadata": {},
   "outputs": [
    {
     "data": {
      "text/plain": [
       "[<matplotlib.lines.Line2D at 0x19ac66fb358>]"
      ]
     },
     "execution_count": 8,
     "metadata": {},
     "output_type": "execute_result"
    },
    {
     "data": {
      "image/png": "[encoded data removed]",
      "text/plain": [
       "<Figure size 432x288 with 1 Axes>"
      ]
     },
     "metadata": {
      "needs_background": "light"
     },
     "output_type": "display_data"
    }
   ],
   "source": [
    "plt.hist(bootstrap_danceability)\n",
    "plt.plot([top_10_songs['danceability'].mean()], [0], 'ro', ms=15)"
   ]
  },
  {
   "cell_type": "code",
   "execution_count": 9,
   "metadata": {},
   "outputs": [],
   "source": [
    "def bootstrap_multiple_features(features):\n",
    "    for feature in features:\n",
    "        # TODO: increase n\n",
    "        feature_bootstrap = bootstrap_feature(df, feature, 1500)\n",
    "        sns.distplot(feature_bootstrap, kde = False)\n",
    "        plt.hist(feature_bootstrap)\n",
    "        plt.plot([top_10_songs[feature].mean()], [0], 'ro', ms=15)\n",
    "        plt.ylabel('Numero de Amostras de Tamanho 1500')\n",
    "        plt.xlabel('Média {}'.format(feature))\n",
    "        plt.show()"
   ]
  },
  {
   "cell_type": "code",
   "execution_count": null,
   "metadata": {},
   "outputs": [],
   "source": []
  },
  {
   "cell_type": "code",
   "execution_count": 10,
   "metadata": {},
   "outputs": [
    {
     "data": {
      "image/png": "[encoded data removed]",
      "text/plain": [
       "<Figure size 432x288 with 1 Axes>"
      ]
     },
     "metadata": {
      "needs_background": "light"
     },
     "output_type": "display_data"
    },
    {
     "data": {
      "image/png": "[encoded data removed]",
      "text/plain": [
       "<Figure size 432x288 with 1 Axes>"
      ]
     },
     "metadata": {
      "needs_background": "light"
     },
     "output_type": "display_data"
    },
    {
     "data": {
      "image/png": "[encoded data removed]",
      "text/plain": [
       "<Figure size 432x288 with 1 Axes>"
      ]
     },
     "metadata": {
      "needs_background": "light"
     },
     "output_type": "display_data"
    },
    {
     "data": {
      "image/png": "[encoded data removed]",
      "text/plain": [
       "<Figure size 432x288 with 1 Axes>"
      ]
     },
     "metadata": {
      "needs_background": "light"
     },
     "output_type": "display_data"
    }
   ],
   "source": [
    "spotify_features = df.columns[22:]\n",
    "bootstrap_multiple_features(spotify_features[:4])"
   ]
  },
  {
   "cell_type": "code",
   "execution_count": 11,
   "metadata": {},
   "outputs": [
    {
     "data": {
      "image/png": "[encoded data removed]",
      "text/plain": [
       "<Figure size 432x288 with 1 Axes>"
      ]
     },
     "metadata": {
      "needs_background": "light"
     },
     "output_type": "display_data"
    },
    {
     "data": {
      "image/png": "[encoded data removed]",
      "text/plain": [
       "<Figure size 432x288 with 1 Axes>"
      ]
     },
     "metadata": {
      "needs_background": "light"
     },
     "output_type": "display_data"
    },
    {
     "data": {
      "image/png": "[encoded data removed]",
      "text/plain": [
       "<Figure size 432x288 with 1 Axes>"
      ]
     },
     "metadata": {
      "needs_background": "light"
     },
     "output_type": "display_data"
    },
    {
     "data": {
      "image/png": "[encoded data removed]",
      "text/plain": [
       "<Figure size 432x288 with 1 Axes>"
      ]
     },
     "metadata": {
      "needs_background": "light"
     },
     "output_type": "display_data"
    }
   ],
   "source": [
    "bootstrap_multiple_features(spotify_features[4:8])"
   ]
  },
  {
   "cell_type": "code",
   "execution_count": 12,
   "metadata": {},
   "outputs": [
    {
     "data": {
      "image/png": "[encoded data removed]",
      "text/plain": [
       "<Figure size 432x288 with 1 Axes>"
      ]
     },
     "metadata": {
      "needs_background": "light"
     },
     "output_type": "display_data"
    },
    {
     "data": {
      "image/png": "[encoded data removed]",
      "text/plain": [
       "<Figure size 432x288 with 1 Axes>"
      ]
     },
     "metadata": {
      "needs_background": "light"
     },
     "output_type": "display_data"
    },
    {
     "data": {
      "image/png": "[encoded data removed]",
      "text/plain": [
       "<Figure size 432x288 with 1 Axes>"
      ]
     },
     "metadata": {
      "needs_background": "light"
     },
     "output_type": "display_data"
    },
    {
     "data": {
      "image/png": "[encoded data removed]",
      "text/plain": [
       "<Figure size 432x288 with 1 Axes>"
      ]
     },
     "metadata": {
      "needs_background": "light"
     },
     "output_type": "display_data"
    },
    {
     "data": {
      "image/png": "[encoded data removed]",
      "text/plain": [
       "<Figure size 432x288 with 1 Axes>"
      ]
     },
     "metadata": {
      "needs_background": "light"
     },
     "output_type": "display_data"
    }
   ],
   "source": [
    "bootstrap_multiple_features(spotify_features[8:])"
   ]
  },
  {
   "cell_type": "markdown",
   "metadata": {},
   "source": [
    "Podemos perceber facilmente, pelos plots acima, que a maioria das features do Spotify são diferentes para músicas que estão no top10, comparadas com as que não estão. Vamos utilizar disso para montar testes de hipóteses, caso a caso, para rejeitar a hipótese de que a média da feature é igual para músicas que já chegaram no top10, e que não chegaram no top10."
   ]
  },
  {
   "cell_type": "markdown",
   "metadata": {},
   "source": [
    "# Testes de Hipóteses"
   ]
  },
  {
   "cell_type": "markdown",
   "metadata": {},
   "source": [
    "Nos testes de hipóteses, tentaremos descobrir a \"cara\" das músicas que atingem o top 10 da Billboard, no que diz respeito às features do Spotify. Ou seja: será que as músicas que chegam no top 10 da Billborad tem um danceability alto? Será que elas tem um mode baixo? Será que elas possuem uma valencia alta?"
   ]
  },
  {
   "cell_type": "code",
   "execution_count": 13,
   "metadata": {},
   "outputs": [
    {
     "data": {
      "text/plain": [
       "Index(['energy', 'liveness', 'tempo', 'speechiness', 'acousticness',\n",
       "       'instrumentalness', 'time_signature', 'danceability', 'key',\n",
       "       'duration_ms', 'loudness', 'valence', 'mode'],\n",
       "      dtype='object')"
      ]
     },
     "execution_count": 13,
     "metadata": {},
     "output_type": "execute_result"
    }
   ],
   "source": [
    "spotify_features"
   ]
  },
  {
   "cell_type": "markdown",
   "metadata": {},
   "source": [
    "Para isso, vamos basear os nossos testes de hipóteses em testes de permutação.\n",
    "\n",
    "Inicialmente, iremos criar uma coluna auxiliar no nosso dataset, que indicará se a música já atingiu ou não o top 10. Faremos isso pra facilitar o filtro durante o teste de permutação."
   ]
  },
  {
   "cell_type": "code",
   "execution_count": 14,
   "metadata": {},
   "outputs": [],
   "source": [
    "df['reached_top_10'] = df['peak_pos'] <= 10"
   ]
  },
  {
   "cell_type": "markdown",
   "metadata": {},
   "source": [
    "Abaixo, criamos algumas funções auxiliares, para facilitar o trabalho."
   ]
  },
  {
   "cell_type": "code",
   "execution_count": 15,
   "metadata": {},
   "outputs": [],
   "source": [
    "def shuffle(feature):\n",
    "    return feature.sample(frac=1, replace=False).reset_index(drop=True)\n",
    "\n",
    "def plot_groups_histogram(feature_name):\n",
    "    plt.hist(non_top_10_songs[feature_name], density=True, alpha=0.5)\n",
    "    plt.hist(top_10_songs[feature_name], density=True, alpha=0.5)\n",
    "    plt.show()\n",
    "\n",
    "def plot_permutation_vs_observed(perm_difference, observed_difference):\n",
    "    plt.hist(perm_difference, bins=30, edgecolor='k')\n",
    "    plt.vlines(observed_difference, ymin=0, ymax=600, color='red')\n",
    "    plt.show()\n",
    "    \n",
    "def calculate_p_value(perm_difference, observed_difference, n_iter=5000):\n",
    "    if observed_difference > 0:\n",
    "        return np.count_nonzero(perm_difference > observed_difference) / n_iter\n",
    "    else:\n",
    "        return np.count_nonzero(perm_difference <= observed_difference) / n_iter"
   ]
  },
  {
   "cell_type": "markdown",
   "metadata": {},
   "source": [
    "Agora criaremos uma função que fará o teste de permutação de uma feature recebida por parâmetro."
   ]
  },
  {
   "cell_type": "code",
   "execution_count": 16,
   "metadata": {},
   "outputs": [],
   "source": [
    "def mean_difference_permutation_test(feature_name, n = 5000):\n",
    "    filtro = df['reached_top_10'] == True\n",
    "    differences = np.array([])\n",
    "    for _ in range(n):\n",
    "        np.random.shuffle(filtro.values)\n",
    "        diff = df[filtro][feature_name].mean() - df[~filtro][feature_name].mean()\n",
    "        differences = np.append(differences, diff)\n",
    "    return differences"
   ]
  },
  {
   "cell_type": "markdown",
   "metadata": {},
   "source": [
    "Por fim, definiremos uma função que receberá o nome de uma feature, e fará todo o processo do teste de hipótese:\n",
    "    1. Plotará o histograma de densidade da feature, com 30 bins, para os dois grupos (top10 vs nontop10);\n",
    "    2. Calculará a diferença da média observada entre os dois grupos;\n",
    "    3. Computará o teste de permutação da diferença;\n",
    "    4. Plotará o histograma das diferenças, juntamente com a diferença observada;\n",
    "    5. Calculará o p-valor.\n",
    "   \n",
    "Com isso, poderemos facilmente fazer vários testes de hipóteses, tentando entender quais features podem influenciar uma música a chegar no top10. Iremos considerar o limiar de p-valor como **0.05**, para efeitos de rejeição da hipótese nula."
   ]
  },
  {
   "cell_type": "code",
   "execution_count": 17,
   "metadata": {},
   "outputs": [],
   "source": [
    "def permutation_test_for_feature(feature_name):\n",
    "    plot_groups_histogram(feature_name)\n",
    "    observed_diff = top_10_songs[feature_name].mean() - non_top_10_songs[feature_name].mean()\n",
    "    print(\"Diferença observada entre as médias de {}: {}\".format(feature_name, observed_diff))\n",
    "    perm_diff = mean_difference_permutation_test(feature_name, n = 5000)\n",
    "    plot_permutation_vs_observed(perm_diff, observed_diff)\n",
    "    p_val = calculate_p_value(perm_diff, observed_diff, 5000)\n",
    "    print(\"P-valor do teste: {}\".format(p_val))\n",
    "    return (feature_name, observed_diff, p_val, p_val < 0.05)"
   ]
  },
  {
   "cell_type": "markdown",
   "metadata": {},
   "source": [
    "Com essas ferramentas, podemos partir para os testes de hipóteses!\n",
    "\n",
    "Iremos armazenar os dados de cada execução num vetor, para construir uma tabela resumindo os resultados obtidos."
   ]
  },
  {
   "cell_type": "code",
   "execution_count": 18,
   "metadata": {},
   "outputs": [],
   "source": [
    "results = []"
   ]
  },
  {
   "cell_type": "markdown",
   "metadata": {},
   "source": [
    "## Teste de Hipótese - Energy\n",
    "### H0: na população, a distribuição do atributo \"energy\" é igual para músicas que já atingiram o top 10 e músicas que nunca atingiram o top 10. A diferença nas amostras pode ser explicada pelo acaso."
   ]
  },
  {
   "cell_type": "code",
   "execution_count": 19,
   "metadata": {},
   "outputs": [
    {
     "data": {
      "image/png": "[encoded data removed]",
      "text/plain": [
       "<Figure size 432x288 with 1 Axes>"
      ]
     },
     "metadata": {
      "needs_background": "light"
     },
     "output_type": "display_data"
    },
    {
     "name": "stdout",
     "output_type": "stream",
     "text": [
      "Diferença observada entre as médias de energy: 4.7947474390519496e-05\n"
     ]
    },
    {
     "data": {
      "image/png": "[encoded data removed]",
      "text/plain": [
       "<Figure size 432x288 with 1 Axes>"
      ]
     },
     "metadata": {
      "needs_background": "light"
     },
     "output_type": "display_data"
    },
    {
     "name": "stdout",
     "output_type": "stream",
     "text": [
      "P-valor do teste: 0.4948\n"
     ]
    }
   ],
   "source": [
    "permutation_test_energy = permutation_test_for_feature('energy')\n",
    "results.append(permutation_test_energy)"
   ]
  },
  {
   "cell_type": "markdown",
   "metadata": {},
   "source": [
    "Como podemos observar no plot, o valor observado ficou ao centro da distribuição da permutação. O p-valor confirma que não podemos rejeitar H0."
   ]
  },
  {
   "cell_type": "markdown",
   "metadata": {},
   "source": [
    "## Teste de Hipótese - Danceability\n",
    "\n",
    "### H0: na população, a distribuição do atributo \"danceability\" é igual para músicas que já atingiram o top 10 e músicas que nunca atingiram o top 10. A diferença nas amostras pode ser explicada pelo acaso."
   ]
  },
  {
   "cell_type": "code",
   "execution_count": 20,
   "metadata": {},
   "outputs": [
    {
     "data": {
      "image/png": "[encoded data removed]",
      "text/plain": [
       "<Figure size 432x288 with 1 Axes>"
      ]
     },
     "metadata": {
      "needs_background": "light"
     },
     "output_type": "display_data"
    },
    {
     "name": "stdout",
     "output_type": "stream",
     "text": [
      "Diferença observada entre as médias de danceability: 0.05204700745559354\n"
     ]
    },
    {
     "data": {
      "image/png": "[encoded data removed]",
      "text/plain": [
       "<Figure size 432x288 with 1 Axes>"
      ]
     },
     "metadata": {
      "needs_background": "light"
     },
     "output_type": "display_data"
    },
    {
     "name": "stdout",
     "output_type": "stream",
     "text": [
      "P-valor do teste: 0.0\n"
     ]
    }
   ],
   "source": [
    "results.append(permutation_test_for_feature('danceability'))"
   ]
  },
  {
   "cell_type": "markdown",
   "metadata": {},
   "source": [
    "Parece que a diferença observada não pode ser explicada pelo acaso! P-valor 0. Portanto rejeitamos H0."
   ]
  },
  {
   "cell_type": "markdown",
   "metadata": {},
   "source": [
    "Ou seja, a distribuição de \"danceability\" não é uniforme para músicas que já atingiram o top 10 e músicas que não atingiram."
   ]
  },
  {
   "cell_type": "markdown",
   "metadata": {},
   "source": [
    "Temos uma feature discreta, que só assume valores 0 ou 1.\n",
    "\n",
    "Para **mode**, o p-valor também é inferior a 0.05, portanto também conseguimos rejeitar H0."
   ]
  },
  {
   "cell_type": "markdown",
   "metadata": {},
   "source": [
    "## Teste de Hipótese - Liveness\n",
    "\n",
    "### H0: na população, a distribuição do atributo \"liveness\" é igual para músicas que já atingiram o top 10 e músicas que nunca atingiram o top 10. A diferença nas amostras pode ser explicada pelo acaso."
   ]
  },
  {
   "cell_type": "code",
   "execution_count": 21,
   "metadata": {},
   "outputs": [
    {
     "data": {
      "image/png": "[encoded data removed]",
      "text/plain": [
       "<Figure size 432x288 with 1 Axes>"
      ]
     },
     "metadata": {
      "needs_background": "light"
     },
     "output_type": "display_data"
    },
    {
     "name": "stdout",
     "output_type": "stream",
     "text": [
      "Diferença observada entre as médias de liveness: -0.0054043906533058905\n"
     ]
    },
    {
     "data": {
      "image/png": "[encoded data removed]",
      "text/plain": [
       "<Figure size 432x288 with 1 Axes>"
      ]
     },
     "metadata": {
      "needs_background": "light"
     },
     "output_type": "display_data"
    },
    {
     "name": "stdout",
     "output_type": "stream",
     "text": [
      "P-valor do teste: 0.1254\n"
     ]
    }
   ],
   "source": [
    "results.append(permutation_test_for_feature('liveness'))"
   ]
  },
  {
   "cell_type": "markdown",
   "metadata": {},
   "source": [
    "Nesse caso, não podemos rejeitar H0, visto que o p-valor é maior que o limiar de 0.05."
   ]
  },
  {
   "cell_type": "markdown",
   "metadata": {},
   "source": [
    "## Teste de Hipótese - Tempo\n",
    "\n",
    "### H0: na população, a distribuição do atributo \"tempo\" é igual para músicas que já atingiram o top 10 e músicas que nunca atingiram o top 10. A diferença nas amostras pode ser explicada pelo acaso."
   ]
  },
  {
   "cell_type": "code",
   "execution_count": 22,
   "metadata": {},
   "outputs": [
    {
     "data": {
      "image/png": "[encoded data removed]",
      "text/plain": [
       "<Figure size 432x288 with 1 Axes>"
      ]
     },
     "metadata": {
      "needs_background": "light"
     },
     "output_type": "display_data"
    },
    {
     "name": "stdout",
     "output_type": "stream",
     "text": [
      "Diferença observada entre as médias de tempo: -2.905214779252347\n"
     ]
    },
    {
     "data": {
      "image/png": "[encoded data removed]",
      "text/plain": [
       "<Figure size 432x288 with 1 Axes>"
      ]
     },
     "metadata": {
      "needs_background": "light"
     },
     "output_type": "display_data"
    },
    {
     "name": "stdout",
     "output_type": "stream",
     "text": [
      "P-valor do teste: 0.0012\n"
     ]
    }
   ],
   "source": [
    "results.append(permutation_test_for_feature('tempo'))"
   ]
  },
  {
   "cell_type": "markdown",
   "metadata": {},
   "source": [
    "Como o p-valor é inferior a 0.05, rejeitamos H0!"
   ]
  },
  {
   "cell_type": "markdown",
   "metadata": {},
   "source": [
    "## Teste de Hipótese - Speechiness\n",
    "### H0: na população, a distribuição do atributo \"speechiness\" é igual para músicas que já atingiram o top 10 e músicas que nunca atingiram o top 10. A diferença nas amostras pode ser explicada pelo acaso."
   ]
  },
  {
   "cell_type": "code",
   "execution_count": 23,
   "metadata": {},
   "outputs": [
    {
     "data": {
      "image/png": "[encoded data removed]",
      "text/plain": [
       "<Figure size 432x288 with 1 Axes>"
      ]
     },
     "metadata": {
      "needs_background": "light"
     },
     "output_type": "display_data"
    },
    {
     "name": "stdout",
     "output_type": "stream",
     "text": [
      "Diferença observada entre as médias de speechiness: 0.01165081222016491\n"
     ]
    },
    {
     "data": {
      "image/png": "[encoded data removed]",
      "text/plain": [
       "<Figure size 432x288 with 1 Axes>"
      ]
     },
     "metadata": {
      "needs_background": "light"
     },
     "output_type": "display_data"
    },
    {
     "name": "stdout",
     "output_type": "stream",
     "text": [
      "P-valor do teste: 0.0004\n"
     ]
    }
   ],
   "source": [
    "results.append(permutation_test_for_feature('speechiness'))"
   ]
  },
  {
   "cell_type": "markdown",
   "metadata": {},
   "source": [
    "P valor inferior a 0.05, rejeitamos a hipótese nula."
   ]
  },
  {
   "cell_type": "markdown",
   "metadata": {},
   "source": [
    "## Teste de Hipótese - Acousticness\n",
    "### H0: na população, a distribuição do atributo \"acousticness\" é igual para músicas que já atingiram o top 10 e músicas que nunca atingiram o top 10. A diferença nas amostras pode ser explicada pelo acaso."
   ]
  },
  {
   "cell_type": "code",
   "execution_count": 24,
   "metadata": {},
   "outputs": [
    {
     "data": {
      "image/png": "[encoded data removed]",
      "text/plain": [
       "<Figure size 432x288 with 1 Axes>"
      ]
     },
     "metadata": {
      "needs_background": "light"
     },
     "output_type": "display_data"
    },
    {
     "name": "stdout",
     "output_type": "stream",
     "text": [
      "Diferença observada entre as médias de acousticness: -0.033229565586830934\n"
     ]
    },
    {
     "data": {
      "image/png": "[encoded data removed]",
      "text/plain": [
       "<Figure size 432x288 with 1 Axes>"
      ]
     },
     "metadata": {
      "needs_background": "light"
     },
     "output_type": "display_data"
    },
    {
     "name": "stdout",
     "output_type": "stream",
     "text": [
      "P-valor do teste: 0.0\n"
     ]
    }
   ],
   "source": [
    "results.append(permutation_test_for_feature('acousticness'))"
   ]
  },
  {
   "cell_type": "markdown",
   "metadata": {},
   "source": [
    "P valor também é inferior ao limiar de 0.05! Rejeitamos H0."
   ]
  },
  {
   "cell_type": "markdown",
   "metadata": {},
   "source": [
    "## Teste de Hipótese - Instrumentalness\n",
    "### H0: na população, a distribuição do atributo \"instrumentalness\" é igual para músicas que já atingiram o top 10 e músicas que nunca atingiram o top 10. A diferença nas amostras pode ser explicada pelo acaso."
   ]
  },
  {
   "cell_type": "code",
   "execution_count": 25,
   "metadata": {},
   "outputs": [
    {
     "data": {
      "image/png": "[encoded data removed]",
      "text/plain": [
       "<Figure size 432x288 with 1 Axes>"
      ]
     },
     "metadata": {
      "needs_background": "light"
     },
     "output_type": "display_data"
    },
    {
     "name": "stdout",
     "output_type": "stream",
     "text": [
      "Diferença observada entre as médias de instrumentalness: -0.0027443378667299494\n"
     ]
    },
    {
     "data": {
      "image/png": "[encoded data removed]",
      "text/plain": [
       "<Figure size 432x288 with 1 Axes>"
      ]
     },
     "metadata": {
      "needs_background": "light"
     },
     "output_type": "display_data"
    },
    {
     "name": "stdout",
     "output_type": "stream",
     "text": [
      "P-valor do teste: 0.1762\n"
     ]
    }
   ],
   "source": [
    "results.append(permutation_test_for_feature('instrumentalness'))"
   ]
  },
  {
   "cell_type": "markdown",
   "metadata": {},
   "source": [
    "Agora temos outra feature que não conseguimos rejeitar H0."
   ]
  },
  {
   "cell_type": "markdown",
   "metadata": {},
   "source": [
    "## Teste de Hipótese - TimeSignature\n",
    "### H0: na população, a distribuição do atributo \"time_signature\" é igual para músicas que já atingiram o top 10 e músicas que nunca atingiram o top 10. A diferença nas amostras pode ser explicada pelo acaso."
   ]
  },
  {
   "cell_type": "code",
   "execution_count": 26,
   "metadata": {},
   "outputs": [
    {
     "data": {
      "image/png": "[encoded data removed]",
      "text/plain": [
       "<Figure size 432x288 with 1 Axes>"
      ]
     },
     "metadata": {
      "needs_background": "light"
     },
     "output_type": "display_data"
    },
    {
     "name": "stdout",
     "output_type": "stream",
     "text": [
      "Diferença observada entre as médias de time_signature: 0.023552517425605046\n"
     ]
    },
    {
     "data": {
      "image/png": "[encoded data removed]",
      "text/plain": [
       "<Figure size 432x288 with 1 Axes>"
      ]
     },
     "metadata": {
      "needs_background": "light"
     },
     "output_type": "display_data"
    },
    {
     "name": "stdout",
     "output_type": "stream",
     "text": [
      "P-valor do teste: 0.0038\n"
     ]
    }
   ],
   "source": [
    "results.append(permutation_test_for_feature('time_signature'))"
   ]
  },
  {
   "cell_type": "markdown",
   "metadata": {},
   "source": [
    "## Teste de Hipótese - Key\n",
    "### H0: na população, a distribuição do atributo \"key\" é igual para músicas que já atingiram o top 10 e músicas que nunca atingiram o top 10. A diferença nas amostras pode ser explicada pelo acaso."
   ]
  },
  {
   "cell_type": "code",
   "execution_count": 27,
   "metadata": {},
   "outputs": [
    {
     "data": {
      "image/png": "[encoded data removed]",
      "text/plain": [
       "<Figure size 432x288 with 1 Axes>"
      ]
     },
     "metadata": {
      "needs_background": "light"
     },
     "output_type": "display_data"
    },
    {
     "name": "stdout",
     "output_type": "stream",
     "text": [
      "Diferença observada entre as médias de key: -0.17472106079775696\n"
     ]
    },
    {
     "data": {
      "image/png": "[encoded data removed]",
      "text/plain": [
       "<Figure size 432x288 with 1 Axes>"
      ]
     },
     "metadata": {
      "needs_background": "light"
     },
     "output_type": "display_data"
    },
    {
     "name": "stdout",
     "output_type": "stream",
     "text": [
      "P-valor do teste: 0.0742\n"
     ]
    }
   ],
   "source": [
    "results.append(permutation_test_for_feature('key'))"
   ]
  },
  {
   "cell_type": "markdown",
   "metadata": {},
   "source": [
    "## Teste de Hipótese - Loudness\n",
    "### H0: na população, a distribuição do atributo \"loudness\" é igual para músicas que já atingiram o top 10 e músicas que nunca atingiram o top 10. A diferença nas amostras pode ser explicada pelo acaso."
   ]
  },
  {
   "cell_type": "code",
   "execution_count": 28,
   "metadata": {},
   "outputs": [
    {
     "data": {
      "image/png": "[encoded data removed]",
      "text/plain": [
       "<Figure size 432x288 with 1 Axes>"
      ]
     },
     "metadata": {
      "needs_background": "light"
     },
     "output_type": "display_data"
    },
    {
     "name": "stdout",
     "output_type": "stream",
     "text": [
      "Diferença observada entre as médias de loudness: 0.17502767913462236\n"
     ]
    },
    {
     "data": {
      "image/png": "[encoded data removed]",
      "text/plain": [
       "<Figure size 432x288 with 1 Axes>"
      ]
     },
     "metadata": {
      "needs_background": "light"
     },
     "output_type": "display_data"
    },
    {
     "name": "stdout",
     "output_type": "stream",
     "text": [
      "P-valor do teste: 0.0112\n"
     ]
    }
   ],
   "source": [
    "results.append(permutation_test_for_feature('loudness'))"
   ]
  },
  {
   "cell_type": "markdown",
   "metadata": {},
   "source": [
    "## Teste de Hipótese - Valence\n",
    "### H0: na população, a distribuição do atributo \"valence\" é igual para músicas que já atingiram o top 10 e músicas que nunca atingiram o top 10. A diferença nas amostras pode ser explicada pelo acaso."
   ]
  },
  {
   "cell_type": "code",
   "execution_count": 29,
   "metadata": {},
   "outputs": [
    {
     "data": {
      "image/png": "[encoded data removed]",
      "text/plain": [
       "<Figure size 432x288 with 1 Axes>"
      ]
     },
     "metadata": {
      "needs_background": "light"
     },
     "output_type": "display_data"
    },
    {
     "name": "stdout",
     "output_type": "stream",
     "text": [
      "Diferença observada entre as médias de valence: 0.04999590087664185\n"
     ]
    },
    {
     "data": {
      "image/png": "[encoded data removed]",
      "text/plain": [
       "<Figure size 432x288 with 1 Axes>"
      ]
     },
     "metadata": {
      "needs_background": "light"
     },
     "output_type": "display_data"
    },
    {
     "name": "stdout",
     "output_type": "stream",
     "text": [
      "P-valor do teste: 0.0\n"
     ]
    }
   ],
   "source": [
    "results.append(permutation_test_for_feature('valence'))"
   ]
  },
  {
   "cell_type": "markdown",
   "metadata": {},
   "source": [
    "## Teste de Hipótese - Mode\n",
    "### H0: na população, a distribuição do atributo \"mode\" é igual para músicas que já atingiram o top 10 e músicas que nunca atingiram o top 10. A diferença nas amostras pode ser explicada pelo acaso."
   ]
  },
  {
   "cell_type": "code",
   "execution_count": 30,
   "metadata": {},
   "outputs": [
    {
     "data": {
      "image/png": "[encoded data removed]",
      "text/plain": [
       "<Figure size 432x288 with 1 Axes>"
      ]
     },
     "metadata": {
      "needs_background": "light"
     },
     "output_type": "display_data"
    },
    {
     "name": "stdout",
     "output_type": "stream",
     "text": [
      "Diferença observada entre as médias de mode: -0.08328548400502767\n"
     ]
    },
    {
     "data": {
      "image/png": "[encoded data removed]",
      "text/plain": [
       "<Figure size 432x288 with 1 Axes>"
      ]
     },
     "metadata": {
      "needs_background": "light"
     },
     "output_type": "display_data"
    },
    {
     "name": "stdout",
     "output_type": "stream",
     "text": [
      "P-valor do teste: 0.0\n"
     ]
    }
   ],
   "source": [
    "results.append(permutation_test_for_feature('mode'))"
   ]
  },
  {
   "cell_type": "markdown",
   "metadata": {},
   "source": [
    "Depois de avaliar tudo isso, podemos construir uma tabela, sumarizando o resultado dos nossos testes de hipóteses."
   ]
  },
  {
   "cell_type": "code",
   "execution_count": 31,
   "metadata": {},
   "outputs": [
    {
     "data": {
      "text/plain": [
       "[('energy', 4.7947474390519496e-05, 0.4948, False),\n",
       " ('danceability', 0.05204700745559354, 0.0, True),\n",
       " ('liveness', -0.0054043906533058905, 0.1254, False),\n",
       " ('tempo', -2.905214779252347, 0.0012, True),\n",
       " ('speechiness', 0.01165081222016491, 0.0004, True),\n",
       " ('acousticness', -0.033229565586830934, 0.0, True),\n",
       " ('instrumentalness', -0.0027443378667299494, 0.1762, False),\n",
       " ('time_signature', 0.023552517425605046, 0.0038, True),\n",
       " ('key', -0.17472106079775696, 0.0742, False),\n",
       " ('loudness', 0.17502767913462236, 0.0112, True),\n",
       " ('valence', 0.04999590087664185, 0.0, True),\n",
       " ('mode', -0.08328548400502767, 0.0, True)]"
      ]
     },
     "execution_count": 31,
     "metadata": {},
     "output_type": "execute_result"
    }
   ],
   "source": [
    "results"
   ]
  },
  {
   "cell_type": "code",
   "execution_count": 54,
   "metadata": {},
   "outputs": [
    {
     "data": {
      "text/html": [
       "<div>\n",
       "<style scoped>\n",
       "    .dataframe tbody tr th:only-of-type {\n",
       "        vertical-align: middle;\n",
       "    }\n",
       "\n",
       "    .dataframe tbody tr th {\n",
       "        vertical-align: top;\n",
       "    }\n",
       "\n",
       "    .dataframe thead th {\n",
       "        text-align: right;\n",
       "    }\n",
       "</style>\n",
       "<table border=\"1\" class=\"dataframe\">\n",
       "  <thead>\n",
       "    <tr style=\"text-align: right;\">\n",
       "      <th></th>\n",
       "      <th>Feature</th>\n",
       "      <th>Observed Mean Difference</th>\n",
       "      <th>P-Value</th>\n",
       "      <th>Rejected H0</th>\n",
       "    </tr>\n",
       "  </thead>\n",
       "  <tbody>\n",
       "    <tr>\n",
       "      <th>0</th>\n",
       "      <td>energy</td>\n",
       "      <td>0.000048</td>\n",
       "      <td>0.4948</td>\n",
       "      <td>False</td>\n",
       "    </tr>\n",
       "    <tr>\n",
       "      <th>1</th>\n",
       "      <td>danceability</td>\n",
       "      <td>0.052047</td>\n",
       "      <td>0.0000</td>\n",
       "      <td>True</td>\n",
       "    </tr>\n",
       "    <tr>\n",
       "      <th>2</th>\n",
       "      <td>liveness</td>\n",
       "      <td>-0.005404</td>\n",
       "      <td>0.1254</td>\n",
       "      <td>False</td>\n",
       "    </tr>\n",
       "    <tr>\n",
       "      <th>3</th>\n",
       "      <td>tempo</td>\n",
       "      <td>-2.905215</td>\n",
       "      <td>0.0012</td>\n",
       "      <td>True</td>\n",
       "    </tr>\n",
       "    <tr>\n",
       "      <th>4</th>\n",
       "      <td>speechiness</td>\n",
       "      <td>0.011651</td>\n",
       "      <td>0.0004</td>\n",
       "      <td>True</td>\n",
       "    </tr>\n",
       "    <tr>\n",
       "      <th>5</th>\n",
       "      <td>acousticness</td>\n",
       "      <td>-0.033230</td>\n",
       "      <td>0.0000</td>\n",
       "      <td>True</td>\n",
       "    </tr>\n",
       "    <tr>\n",
       "      <th>6</th>\n",
       "      <td>instrumentalness</td>\n",
       "      <td>-0.002744</td>\n",
       "      <td>0.1762</td>\n",
       "      <td>False</td>\n",
       "    </tr>\n",
       "    <tr>\n",
       "      <th>7</th>\n",
       "      <td>time_signature</td>\n",
       "      <td>0.023553</td>\n",
       "      <td>0.0038</td>\n",
       "      <td>True</td>\n",
       "    </tr>\n",
       "    <tr>\n",
       "      <th>8</th>\n",
       "      <td>key</td>\n",
       "      <td>-0.174721</td>\n",
       "      <td>0.0742</td>\n",
       "      <td>False</td>\n",
       "    </tr>\n",
       "    <tr>\n",
       "      <th>9</th>\n",
       "      <td>loudness</td>\n",
       "      <td>0.175028</td>\n",
       "      <td>0.0112</td>\n",
       "      <td>True</td>\n",
       "    </tr>\n",
       "    <tr>\n",
       "      <th>10</th>\n",
       "      <td>valence</td>\n",
       "      <td>0.049996</td>\n",
       "      <td>0.0000</td>\n",
       "      <td>True</td>\n",
       "    </tr>\n",
       "    <tr>\n",
       "      <th>11</th>\n",
       "      <td>mode</td>\n",
       "      <td>-0.083285</td>\n",
       "      <td>0.0000</td>\n",
       "      <td>True</td>\n",
       "    </tr>\n",
       "  </tbody>\n",
       "</table>\n",
       "</div>"
      ],
      "text/plain": [
       "             Feature  Observed Mean Difference  P-Value  Rejected H0\n",
       "0             energy                  0.000048   0.4948        False\n",
       "1       danceability                  0.052047   0.0000         True\n",
       "2           liveness                 -0.005404   0.1254        False\n",
       "3              tempo                 -2.905215   0.0012         True\n",
       "4        speechiness                  0.011651   0.0004         True\n",
       "5       acousticness                 -0.033230   0.0000         True\n",
       "6   instrumentalness                 -0.002744   0.1762        False\n",
       "7     time_signature                  0.023553   0.0038         True\n",
       "8                key                 -0.174721   0.0742        False\n",
       "9           loudness                  0.175028   0.0112         True\n",
       "10           valence                  0.049996   0.0000         True\n",
       "11              mode                 -0.083285   0.0000         True"
      ]
     },
     "execution_count": 54,
     "metadata": {},
     "output_type": "execute_result"
    }
   ],
   "source": [
    "result_table = pd.DataFrame(results, columns=[\"Feature\", \"Observed Mean Difference\", \"P-Value\", \"Rejected H0\"])\n",
    "result_table"
   ]
  },
  {
   "cell_type": "markdown",
   "metadata": {},
   "source": [
    "Como podemos observar, para a maioria dos atributos conseguimos rejeitar a H0 comum.\n",
    "Com isso, conseguimos responder a pergunta 2:\n",
    "\n",
    "_**Existem características \"padrão\" nas músicas que atingem o topo do top100?**_"
   ]
  },
  {
   "cell_type": "markdown",
   "metadata": {},
   "source": [
    "Resposta: SIM. As características \"padrão\" dessas músicas são as features nas quais conseguimos rejeitar H0, e o \"padrão\" é a diferença observada entre o grupo do top10 e o grupo que não atinge o top10.\n",
    "\n",
    "Podemos filtrar os atributos usando um one-liner:"
   ]
  },
  {
   "cell_type": "code",
   "execution_count": 55,
   "metadata": {},
   "outputs": [
    {
     "data": {
      "text/html": [
       "<div>\n",
       "<style scoped>\n",
       "    .dataframe tbody tr th:only-of-type {\n",
       "        vertical-align: middle;\n",
       "    }\n",
       "\n",
       "    .dataframe tbody tr th {\n",
       "        vertical-align: top;\n",
       "    }\n",
       "\n",
       "    .dataframe thead th {\n",
       "        text-align: right;\n",
       "    }\n",
       "</style>\n",
       "<table border=\"1\" class=\"dataframe\">\n",
       "  <thead>\n",
       "    <tr style=\"text-align: right;\">\n",
       "      <th></th>\n",
       "      <th>Feature</th>\n",
       "      <th>Observed Mean Difference</th>\n",
       "      <th>P-Value</th>\n",
       "      <th>Rejected H0</th>\n",
       "    </tr>\n",
       "  </thead>\n",
       "  <tbody>\n",
       "    <tr>\n",
       "      <th>1</th>\n",
       "      <td>danceability</td>\n",
       "      <td>0.052047</td>\n",
       "      <td>0.0000</td>\n",
       "      <td>True</td>\n",
       "    </tr>\n",
       "    <tr>\n",
       "      <th>3</th>\n",
       "      <td>tempo</td>\n",
       "      <td>-2.905215</td>\n",
       "      <td>0.0012</td>\n",
       "      <td>True</td>\n",
       "    </tr>\n",
       "    <tr>\n",
       "      <th>4</th>\n",
       "      <td>speechiness</td>\n",
       "      <td>0.011651</td>\n",
       "      <td>0.0004</td>\n",
       "      <td>True</td>\n",
       "    </tr>\n",
       "    <tr>\n",
       "      <th>5</th>\n",
       "      <td>acousticness</td>\n",
       "      <td>-0.033230</td>\n",
       "      <td>0.0000</td>\n",
       "      <td>True</td>\n",
       "    </tr>\n",
       "    <tr>\n",
       "      <th>7</th>\n",
       "      <td>time_signature</td>\n",
       "      <td>0.023553</td>\n",
       "      <td>0.0038</td>\n",
       "      <td>True</td>\n",
       "    </tr>\n",
       "    <tr>\n",
       "      <th>9</th>\n",
       "      <td>loudness</td>\n",
       "      <td>0.175028</td>\n",
       "      <td>0.0112</td>\n",
       "      <td>True</td>\n",
       "    </tr>\n",
       "    <tr>\n",
       "      <th>10</th>\n",
       "      <td>valence</td>\n",
       "      <td>0.049996</td>\n",
       "      <td>0.0000</td>\n",
       "      <td>True</td>\n",
       "    </tr>\n",
       "    <tr>\n",
       "      <th>11</th>\n",
       "      <td>mode</td>\n",
       "      <td>-0.083285</td>\n",
       "      <td>0.0000</td>\n",
       "      <td>True</td>\n",
       "    </tr>\n",
       "  </tbody>\n",
       "</table>\n",
       "</div>"
      ],
      "text/plain": [
       "           Feature  Observed Mean Difference  P-Value  Rejected H0\n",
       "1     danceability                  0.052047   0.0000         True\n",
       "3            tempo                 -2.905215   0.0012         True\n",
       "4      speechiness                  0.011651   0.0004         True\n",
       "5     acousticness                 -0.033230   0.0000         True\n",
       "7   time_signature                  0.023553   0.0038         True\n",
       "9         loudness                  0.175028   0.0112         True\n",
       "10         valence                  0.049996   0.0000         True\n",
       "11            mode                 -0.083285   0.0000         True"
      ]
     },
     "execution_count": 55,
     "metadata": {},
     "output_type": "execute_result"
    }
   ],
   "source": [
    "result_table[result_table[\"Rejected H0\"]]"
   ]
  },
  {
   "cell_type": "markdown",
   "metadata": {},
   "source": [
    "Com isso, poderíamos ter um ponto de partida para utilização de ML."
   ]
  }
 ],
 "metadata": {
  "kernelspec": {
   "display_name": "Python 3",
   "language": "python",
   "name": "python3"
  },
  "language_info": {
   "codemirror_mode": {
    "name": "ipython",
    "version": 3
   },
   "file_extension": ".py",
   "mimetype": "text/x-python",
   "name": "python",
   "nbconvert_exporter": "python",
   "pygments_lexer": "ipython3",
   "version": "3.7.1"
  }
 },
 "nbformat": 4,
 "nbformat_minor": 2
}
