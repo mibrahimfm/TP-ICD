{
 "cells": [
  {
   "cell_type": "code",
   "execution_count": 1,
   "metadata": {},
   "outputs": [],
   "source": [
    "import pandas as pd\n",
    "from matplotlib import pyplot as plt\n",
    "from matplotlib.pyplot import figure"
   ]
  },
  {
   "cell_type": "code",
   "execution_count": 2,
   "metadata": {},
   "outputs": [
    {
     "data": {
      "text/html": [
       "<div>\n",
       "<style scoped>\n",
       "    .dataframe tbody tr th:only-of-type {\n",
       "        vertical-align: middle;\n",
       "    }\n",
       "\n",
       "    .dataframe tbody tr th {\n",
       "        vertical-align: top;\n",
       "    }\n",
       "\n",
       "    .dataframe thead th {\n",
       "        text-align: right;\n",
       "    }\n",
       "</style>\n",
       "<table border=\"1\" class=\"dataframe\">\n",
       "  <thead>\n",
       "    <tr style=\"text-align: right;\">\n",
       "      <th></th>\n",
       "      <th>peak_pos</th>\n",
       "      <th>weeks</th>\n",
       "      <th>rank</th>\n",
       "      <th>genre</th>\n",
       "      <th>pop</th>\n",
       "      <th>dance pop</th>\n",
       "      <th>pop rap</th>\n",
       "      <th>post-teen pop</th>\n",
       "      <th>r&amp;b</th>\n",
       "      <th>rap</th>\n",
       "      <th>urban contemporary</th>\n",
       "      <th>hip hop</th>\n",
       "      <th>hip pop</th>\n",
       "      <th>southern hip hop</th>\n",
       "      <th>trap music</th>\n",
       "      <th>dirty south rap</th>\n",
       "      <th>pop rock</th>\n",
       "      <th>gangster rap</th>\n",
       "      <th>neo mellow</th>\n",
       "      <th>neo soul</th>\n",
       "    </tr>\n",
       "  </thead>\n",
       "  <tbody>\n",
       "    <tr>\n",
       "      <th>0</th>\n",
       "      <td>7</td>\n",
       "      <td>7</td>\n",
       "      <td>20</td>\n",
       "      <td>['pop', 'rap']</td>\n",
       "      <td>True</td>\n",
       "      <td>False</td>\n",
       "      <td>False</td>\n",
       "      <td>False</td>\n",
       "      <td>False</td>\n",
       "      <td>True</td>\n",
       "      <td>False</td>\n",
       "      <td>False</td>\n",
       "      <td>False</td>\n",
       "      <td>False</td>\n",
       "      <td>False</td>\n",
       "      <td>False</td>\n",
       "      <td>False</td>\n",
       "      <td>False</td>\n",
       "      <td>False</td>\n",
       "      <td>False</td>\n",
       "    </tr>\n",
       "    <tr>\n",
       "      <th>1</th>\n",
       "      <td>6</td>\n",
       "      <td>11</td>\n",
       "      <td>7</td>\n",
       "      <td>['dance pop', 'indie r&amp;b', 'pop', 'r&amp;b', 'urba...</td>\n",
       "      <td>True</td>\n",
       "      <td>True</td>\n",
       "      <td>False</td>\n",
       "      <td>False</td>\n",
       "      <td>True</td>\n",
       "      <td>False</td>\n",
       "      <td>True</td>\n",
       "      <td>False</td>\n",
       "      <td>False</td>\n",
       "      <td>False</td>\n",
       "      <td>False</td>\n",
       "      <td>False</td>\n",
       "      <td>False</td>\n",
       "      <td>False</td>\n",
       "      <td>False</td>\n",
       "      <td>False</td>\n",
       "    </tr>\n",
       "    <tr>\n",
       "      <th>2</th>\n",
       "      <td>4</td>\n",
       "      <td>11</td>\n",
       "      <td>54</td>\n",
       "      <td>['canadian pop', 'pop', 'rap']</td>\n",
       "      <td>True</td>\n",
       "      <td>False</td>\n",
       "      <td>False</td>\n",
       "      <td>False</td>\n",
       "      <td>False</td>\n",
       "      <td>True</td>\n",
       "      <td>False</td>\n",
       "      <td>False</td>\n",
       "      <td>False</td>\n",
       "      <td>False</td>\n",
       "      <td>False</td>\n",
       "      <td>False</td>\n",
       "      <td>False</td>\n",
       "      <td>False</td>\n",
       "      <td>False</td>\n",
       "      <td>False</td>\n",
       "    </tr>\n",
       "    <tr>\n",
       "      <th>3</th>\n",
       "      <td>10</td>\n",
       "      <td>10</td>\n",
       "      <td>43</td>\n",
       "      <td>['dance pop', 'hip pop', 'pop', 'pop rap', 'rap']</td>\n",
       "      <td>True</td>\n",
       "      <td>True</td>\n",
       "      <td>True</td>\n",
       "      <td>False</td>\n",
       "      <td>False</td>\n",
       "      <td>True</td>\n",
       "      <td>False</td>\n",
       "      <td>False</td>\n",
       "      <td>True</td>\n",
       "      <td>False</td>\n",
       "      <td>False</td>\n",
       "      <td>False</td>\n",
       "      <td>False</td>\n",
       "      <td>False</td>\n",
       "      <td>False</td>\n",
       "      <td>False</td>\n",
       "    </tr>\n",
       "    <tr>\n",
       "      <th>4</th>\n",
       "      <td>10</td>\n",
       "      <td>4</td>\n",
       "      <td>71</td>\n",
       "      <td>['k-pop']</td>\n",
       "      <td>False</td>\n",
       "      <td>False</td>\n",
       "      <td>False</td>\n",
       "      <td>False</td>\n",
       "      <td>False</td>\n",
       "      <td>False</td>\n",
       "      <td>False</td>\n",
       "      <td>False</td>\n",
       "      <td>False</td>\n",
       "      <td>False</td>\n",
       "      <td>False</td>\n",
       "      <td>False</td>\n",
       "      <td>False</td>\n",
       "      <td>False</td>\n",
       "      <td>False</td>\n",
       "      <td>False</td>\n",
       "    </tr>\n",
       "  </tbody>\n",
       "</table>\n",
       "</div>"
      ],
      "text/plain": [
       "   peak_pos  weeks  rank                                              genre  \\\n",
       "0         7      7    20                                     ['pop', 'rap']   \n",
       "1         6     11     7  ['dance pop', 'indie r&b', 'pop', 'r&b', 'urba...   \n",
       "2         4     11    54                     ['canadian pop', 'pop', 'rap']   \n",
       "3        10     10    43  ['dance pop', 'hip pop', 'pop', 'pop rap', 'rap']   \n",
       "4        10      4    71                                          ['k-pop']   \n",
       "\n",
       "     pop  dance pop  pop rap  post-teen pop    r&b    rap  urban contemporary  \\\n",
       "0   True      False    False          False  False   True               False   \n",
       "1   True       True    False          False   True  False                True   \n",
       "2   True      False    False          False  False   True               False   \n",
       "3   True       True     True          False  False   True               False   \n",
       "4  False      False    False          False  False  False               False   \n",
       "\n",
       "   hip hop  hip pop  southern hip hop  trap music  dirty south rap  pop rock  \\\n",
       "0    False    False             False       False            False     False   \n",
       "1    False    False             False       False            False     False   \n",
       "2    False    False             False       False            False     False   \n",
       "3    False     True             False       False            False     False   \n",
       "4    False    False             False       False            False     False   \n",
       "\n",
       "   gangster rap  neo mellow  neo soul  \n",
       "0         False       False     False  \n",
       "1         False       False     False  \n",
       "2         False       False     False  \n",
       "3         False       False     False  \n",
       "4         False       False     False  "
      ]
     },
     "execution_count": 2,
     "metadata": {},
     "output_type": "execute_result"
    }
   ],
   "source": [
    "df = pd.read_csv('../dataset/songs_one_hot_encoding.csv',\n",
    "                 encoding='iso-8859-1', na_values='unknown')\n",
    "df.head()"
   ]
  },
  {
   "cell_type": "code",
   "execution_count": 3,
   "metadata": {},
   "outputs": [
    {
     "name": "stdout",
     "output_type": "stream",
     "text": [
      "Media rank do rap: 304\n",
      "Media rank do pop: 675\n",
      "Media rank do trap: 129\n"
     ]
    },
    {
     "data": {
      "image/png": "[encoded data removed]",
      "text/plain": [
       "<Figure size 432x288 with 1 Axes>"
      ]
     },
     "metadata": {
      "needs_background": "light"
     },
     "output_type": "display_data"
    }
   ],
   "source": [
    "pop_songs = df[df['pop'] == True]\n",
    "pop_songs_better_than_25 = pop_songs[pop_songs['rank'] <= 25]\n",
    "rap_songs = df[df['rap'] == True]\n",
    "rap_songs_better_than_25 = rap_songs[rap_songs['rank'] <= 25]\n",
    "dance_pop_songs = df[df['dance pop'] == True]\n",
    "dance_pop_songs_better_than_25 = dance_pop_songs[dance_pop_songs['rank'] <= 25]\n",
    "x = ['pop', 'rap', 'dance pop']\n",
    "y = []\n",
    "\n",
    "y.append(len(pop_songs) / len(pop_songs_better_than_25))\n",
    "y.append(len(rap_songs) / len(rap_songs_better_than_25))\n",
    "y.append(len(dance_pop_songs) / len(dance_pop_songs_better_than_25))\n",
    "plt.scatter(x, y)\n",
    "print('Media rank do rap: {}'.format(df[df['rap'] == True]['rank'].count()))\n",
    "print('Media rank do pop: {}'.format(df[df['pop'] == True]['rank'].count()))\n",
    "print('Media rank do trap: {}'.format(df[df['trap music'] == True]['rank'].count()))"
   ]
  },
  {
   "cell_type": "code",
   "execution_count": 4,
   "metadata": {},
   "outputs": [
    {
     "data": {
      "text/plain": [
       "(array([254., 109., 113., 117.,  85., 102.,  98.,  84.,  76.,  81.]),\n",
       " array([ 1. ,  1.9,  2.8,  3.7,  4.6,  5.5,  6.4,  7.3,  8.2,  9.1, 10. ]),\n",
       " <a list of 10 Patch objects>)"
      ]
     },
     "execution_count": 4,
     "metadata": {},
     "output_type": "execute_result"
    },
    {
     "data": {
      "image/png": "[encoded data removed]",
      "text/plain": [
       "<Figure size 432x288 with 1 Axes>"
      ]
     },
     "metadata": {
      "needs_background": "light"
     },
     "output_type": "display_data"
    }
   ],
   "source": [
    "plt.hist(df['peak_pos'])"
   ]
  },
  {
   "cell_type": "code",
   "execution_count": 5,
   "metadata": {},
   "outputs": [
    {
     "data": {
      "text/plain": [
       "<matplotlib.collections.PathCollection at 0x2c391fdceb8>"
      ]
     },
     "execution_count": 5,
     "metadata": {},
     "output_type": "execute_result"
    },
    {
     "data": {
      "image/png": "[encoded data removed]",
      "text/plain": [
       "<Figure size 720x720 with 1 Axes>"
      ]
     },
     "metadata": {},
     "output_type": "display_data"
    }
   ],
   "source": [
    "genres = list(df.columns)[4:]\n",
    "ratio = []\n",
    "for genre in genres:\n",
    "    genre_songs = df[df[genre] == True]\n",
    "    genre_songs_top_25 = genre_songs[genre_songs['rank'] <= 25]\n",
    "    ratio.append(len(genre_songs_top_25) / len(genre_songs))\n",
    "figure(num=None, figsize=(9, 9), dpi=80, facecolor='w', edgecolor='k')\n",
    "plt.scatter(genres[:7], ratio[:7])"
   ]
  },
  {
   "cell_type": "markdown",
   "metadata": {},
   "source": [
    "Com o gráfico acima, que mostra o ratio entre quantidade de músicas que atingem o top 25 por quantidade de músicas que atingem o top 100 por gênero, que o gênero provavelmente influencia nesse ratio."
   ]
  },
  {
   "cell_type": "code",
   "execution_count": 6,
   "metadata": {},
   "outputs": [
    {
     "data": {
      "text/plain": [
       "75.72705664862009"
      ]
     },
     "execution_count": 6,
     "metadata": {},
     "output_type": "execute_result"
    },
    {
     "data": {
      "image/png": "[encoded data removed]",
      "text/plain": [
       "<Figure size 432x288 with 1 Axes>"
      ]
     },
     "metadata": {
      "needs_background": "light"
     },
     "output_type": "display_data"
    }
   ],
   "source": [
    "df2 = pd.read_csv('../dataset/billboard_2000_2018_spotify_lyrics.csv',\n",
    "                 encoding='iso-8859-1', na_values='unknown')\n",
    "plt.hist(df2['rank'])\n",
    "df2['rank'].mean()"
   ]
  },
  {
   "cell_type": "code",
   "execution_count": 7,
   "metadata": {},
   "outputs": [
    {
     "data": {
      "text/plain": [
       "(array([  1.,   9.,  43., 193., 477., 695., 574., 378., 114.,  16.]),\n",
       " array([74.63660372, 74.82540605, 75.01420837, 75.2030107 , 75.39181302,\n",
       "        75.58061534, 75.76941767, 75.95821999, 76.14702232, 76.33582464,\n",
       "        76.52462696]),\n",
       " <a list of 10 Patch objects>)"
      ]
     },
     "execution_count": 7,
     "metadata": {},
     "output_type": "execute_result"
    },
    {
     "data": {
      "image/png": "[encoded data removed]",
      "text/plain": [
       "<Figure size 432x288 with 1 Axes>"
      ]
     },
     "metadata": {
      "needs_background": "light"
     },
     "output_type": "display_data"
    }
   ],
   "source": [
    "means = []\n",
    "for _ in range(2500):\n",
    "    means.append(df2.sample(len(df2), replace=True)['rank'].mean())\n",
    "\n",
    "plt.hist(means)"
   ]
  }
 ],
 "metadata": {
  "kernelspec": {
   "display_name": "Python 3",
   "language": "python",
   "name": "python3"
  },
  "language_info": {
   "codemirror_mode": {
    "name": "ipython",
    "version": 3
   },
   "file_extension": ".py",
   "mimetype": "text/x-python",
   "name": "python",
   "nbconvert_exporter": "python",
   "pygments_lexer": "ipython3",
   "version": "3.7.1"
  }
 },
 "nbformat": 4,
 "nbformat_minor": 2
}
